{
 "cells": [
  {
   "cell_type": "code",
   "execution_count": null,
   "metadata": {},
   "outputs": [],
   "source": [
    "import requests\n",
    "from bs4 import BeautifulSoup\n",
    "import csv\n",
    "\n",
    "with open('data.csv', newline='') as f_urls, open('output.csv', 'w', newline='') as f_output:\n",
    "    csv_urls = csv.reader(f_urls)\n",
    "    csv_output = csv.writer(f_output)\n",
    "    csv_output.writerow(['Page Title'])\n",
    "\n",
    "    for line in csv_urls:\n",
    "        try:\n",
    "            r = requests.get(line[0]).text\n",
    "            soup = BeautifulSoup(r, 'lxml')\n",
    "            pagetitle = soup.find('h1')\n",
    "            print('Page Title :', pagetitle.text)\n",
    "            csv_output.writerow([pagetitle.text])\n",
    "            subtitle = soup.find('h2')\n",
    "            print('Subtitle :', subtitle.text)\n",
    "            csv_output.writerow([subtitle.text])\n",
    "            subsubtitle = soup.find('h3')\n",
    "            print('Subsubtitle :', subsubtitle.text)\n",
    "            csv_output.writerow([subsubtitle.text])\n",
    "            subsubsubtitle = soup.find('h4')\n",
    "            print('Subsubsubtitle :', subsubsubtitle.text)\n",
    "            csv_output.writerow([subsubsubtitle.text])\n",
    "            coretext = soup.find_all('p')\n",
    "            print('Core text :', coretext.text)\n",
    "            csv_output.writerow([coretext.text])\n",
    "        except:\n",
    "            pass"
   ]
  }
 ],
 "metadata": {
  "kernelspec": {
   "display_name": "Python 3",
   "language": "python",
   "name": "python3"
  },
  "language_info": {
   "codemirror_mode": {
    "name": "ipython",
    "version": 3
   },
   "file_extension": ".py",
   "mimetype": "text/x-python",
   "name": "python",
   "nbconvert_exporter": "python",
   "pygments_lexer": "ipython3",
   "version": "3.7.0"
  }
 },
 "nbformat": 4,
 "nbformat_minor": 2
}
