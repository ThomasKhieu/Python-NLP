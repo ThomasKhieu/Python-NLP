{
 "cells": [
  {
   "cell_type": "markdown",
   "metadata": {},
   "source": [
    "<h2> Work on Topic Modeling </h2>\n",
    "<h3> Authors: CHOI Iatin, KAO Weiting, EL KHALIL Marwan, KHIEU Thomas, MAHON Matthew </h3>\n",
    "<p> For this NLP work, we used the dataset provided for the exercice. The raw dataset is totally unexploitable and we add to first use VBA to make it readable for Python.</p>"
   ]
  },
  {
   "cell_type": "markdown",
   "metadata": {},
   "source": [
    "#Excel VBA \n",
    "<br>\n",
    "Sub AppendToExistingOnLeft()\n",
    "<br>\n",
    "Dim c As Range\n",
    "<br>\n",
    "For Each c In Selection\n",
    "<br>\n",
    "If c.Value <> \"\" Then c.Value = \"https://\" & c.Value\n",
    "<br>\n",
    "Next\n",
    "<br>\n",
    "End Sub"
   ]
  },
  {
   "cell_type": "markdown",
   "metadata": {},
   "source": [
    "Once in a usable state we ran the code which is available at this address: https://nbviewer.jupyter.org/github/ThomasKhieu/Python/blob/master/NLPscraping.ipynb\n",
    "<br>\n",
    "This code was used to scrap the 70k rows of URLs in the file."
   ]
  },
  {
   "cell_type": "markdown",
   "metadata": {},
   "source": [
    "This second proposition makes a better use of machine learning than the first one while running less code iteration for the passes."
   ]
  },
  {
   "cell_type": "code",
   "execution_count": 1,
   "metadata": {},
   "outputs": [],
   "source": [
    "#import data\n",
    "import pandas as pd\n",
    "data = pd.read_csv('output.csv', error_bad_lines=False);\n",
    "data_text = data[['Page Title']]\n",
    "data_text['index'] = data_text.index\n",
    "documents = data_text"
   ]
  },
  {
   "cell_type": "code",
   "execution_count": 2,
   "metadata": {},
   "outputs": [
    {
     "name": "stdout",
     "output_type": "stream",
     "text": [
      "146450\n",
      "                                          Page Title  index\n",
      "0  \\n            Pôle-Emploi : les différentes ca...      0\n",
      "1                                        Catégorie A      1\n",
      "2                   \\n            Newsletter              2\n",
      "3  Ne pas déclarer ses revenus à pôle emploi [Rés...      3\n",
      "4                                         2 réponses      4\n"
     ]
    }
   ],
   "source": [
    "#quick look at the data\n",
    "print(len(documents))\n",
    "print(documents[:5])"
   ]
  },
  {
   "cell_type": "code",
   "execution_count": 3,
   "metadata": {},
   "outputs": [
    {
     "name": "stderr",
     "output_type": "stream",
     "text": [
      "[nltk_data] Downloading package wordnet to /Users/Phoenix/nltk_data...\n",
      "[nltk_data]   Package wordnet is already up-to-date!\n"
     ]
    },
    {
     "data": {
      "text/plain": [
       "True"
      ]
     },
     "execution_count": 3,
     "metadata": {},
     "output_type": "execute_result"
    }
   ],
   "source": [
    "#nltk and gensim import\n",
    "import gensim\n",
    "import ssl\n",
    "try:\n",
    "    _create_unverified_https_context = ssl._create_unverified_context\n",
    "except AttributeError:\n",
    "    pass\n",
    "else:\n",
    "    ssl._create_default_https_context = _create_unverified_https_context\n",
    "from gensim.utils import simple_preprocess\n",
    "from gensim.parsing.preprocessing import STOPWORDS\n",
    "from nltk.stem import WordNetLemmatizer, SnowballStemmer\n",
    "from nltk.stem.porter import *\n",
    "import numpy as np\n",
    "np.random.seed(8888)\n",
    "import nltk\n",
    "nltk.download('wordnet')"
   ]
  },
  {
   "cell_type": "code",
   "execution_count": 4,
   "metadata": {},
   "outputs": [],
   "source": [
    "#stemmer setup\n",
    "stemmer = SnowballStemmer(\"french\")\n",
    "def lemmatize_stemming(text):\n",
    "    return stemmer.stem(WordNetLemmatizer().lemmatize(text, pos='v'))\n",
    "def preprocess(text):\n",
    "    result = []\n",
    "    for token in gensim.utils.simple_preprocess(text):\n",
    "        if token not in gensim.parsing.preprocessing.STOPWORDS and len(token) > 4:\n",
    "            result.append(lemmatize_stemming(token))\n",
    "    return result"
   ]
  },
  {
   "cell_type": "code",
   "execution_count": 5,
   "metadata": {},
   "outputs": [
    {
     "name": "stdout",
     "output_type": "stream",
     "text": [
      "original document: \n",
      "['Candy', 'Crush', 'Saga', ':', 'Trucs,', 'astuces', 'et', 'solutions']\n",
      "\n",
      "\n",
      " tokenized and lemmatized document: \n",
      "['candy', 'crush', 'truc', 'astuc', 'solut']\n"
     ]
    }
   ],
   "source": [
    "#postprocessing document preview\n",
    "from nltk.stem.porter import *\n",
    "doc_sample = documents[documents['index'] == 888].values[0][0]\n",
    "print('original document: ')\n",
    "words = []\n",
    "for word in doc_sample.split(' '):\n",
    "    words.append(word)\n",
    "print(words)\n",
    "print('\\n\\n tokenized and lemmatized document: ')\n",
    "print(preprocess(doc_sample))"
   ]
  },
  {
   "cell_type": "code",
   "execution_count": 6,
   "metadata": {},
   "outputs": [
    {
     "data": {
      "text/plain": [
       "0      [emploi, différent, catégor, chômeur]\n",
       "1                                  [catégor]\n",
       "2                                  [newslet]\n",
       "3    [déclar, revenus, emploi, résolu, ferm]\n",
       "4                                   [répons]\n",
       "5                                  [newslet]\n",
       "6                  [mont, plafond, ressourc]\n",
       "7                                  [combien]\n",
       "8                          [compl, ressourc]\n",
       "9                    [alloc, rentr, scolair]\n",
       "Name: Page Title, dtype: object"
      ]
     },
     "execution_count": 6,
     "metadata": {},
     "output_type": "execute_result"
    }
   ],
   "source": [
    "#saving processed results\n",
    "documents = documents.dropna(subset=['Page Title'])\n",
    "processed_docs = documents['Page Title'].map(preprocess)\n",
    "processed_docs[:10]"
   ]
  },
  {
   "cell_type": "code",
   "execution_count": 7,
   "metadata": {},
   "outputs": [
    {
     "name": "stdout",
     "output_type": "stream",
     "text": [
      "0 catégor\n",
      "1 chômeur\n",
      "2 différent\n",
      "3 emploi\n",
      "4 newslet\n",
      "5 déclar\n",
      "6 ferm\n",
      "7 revenus\n",
      "8 résolu\n",
      "9 répons\n",
      "10 mont\n"
     ]
    }
   ],
   "source": [
    "#bag-of-words\n",
    "dictionary = gensim.corpora.Dictionary(processed_docs)\n",
    "count = 0\n",
    "for k, v in dictionary.iteritems():\n",
    "    print(k, v)\n",
    "    count += 1\n",
    "    if count > 10:\n",
    "        break"
   ]
  },
  {
   "cell_type": "code",
   "execution_count": 8,
   "metadata": {},
   "outputs": [],
   "source": [
    "#datafilter\n",
    "dictionary.filter_extremes(no_below=15, no_above=0.3, keep_n=100000)"
   ]
  },
  {
   "cell_type": "markdown",
   "metadata": {},
   "source": [
    "We check the frequency of the words in our dataset to figure out if our data is cleaned and relevant or not."
   ]
  },
  {
   "cell_type": "code",
   "execution_count": 9,
   "metadata": {},
   "outputs": [
    {
     "name": "stdout",
     "output_type": "stream",
     "text": [
      "((0, 'catégor'), (1, 'différent'), (2, 'emploi'), (3, 'newslet'), (4, 'déclar'), (5, 'ferm'), (6, 'revenus'), (7, 'résolu'), (8, 'répons'), (9, 'mont'), (10, 'plafond'), (11, 'ressourc'), (12, 'combien'), (13, 'compl'), (14, 'alloc'), (15, 'rentr'), (16, 'scolair'), (17, 'condit'), (18, 'avoir'), (19, 'campagn'), (20, 'européen'), (21, 'foll'), (22, 'quitt'), (23, 'royaum'), (24, 'annonc'), (25, 'devr'), (26, 'démiss'), (27, 'theres'), (28, 'vendred'), (29, 'brut'), (30, 'éditorial'), (31, 'dessert'), (32, 'maison'), (33, 'cuisin'), (34, 'meilleur'), (35, 'recet'), (36, 'sabl'), (37, 'bordeau'), (38, 'meteo'), (39, 'jeud'), (40, 'matin'), (41, 'acced'), (42, 'apparaît'), (43, 'auss'), (44, 'billy'), (45, 'confirm'), (46, 'depuis'), (47, 'destin'), (48, 'didi'), (49, 'dériv'), (50, 'désign'), (51, 'désir'), (52, 'enfant'), (53, 'fêton'), (54, 'localis'), (55, 'masculin'), (56, 'mérovingien'), (57, 'national'), (58, 'prénom'), (59, 'rest'), (60, 'siecl'), (61, 'sixiem'), (62, 'souhait'), (63, 'territoir'), (64, 'vérit'), (65, 'william'), (66, 'élanc'), (67, 'chien'), (68, 'horoscop'), (69, 'demain'), (70, 'programm'), (71, 'alic'), (72, 'never'), (73, 'canc'), (74, 'chinois'), (75, 'compt'), (76, 'factur'), (77, 'assist'), (78, 'plateform'), (79, 'audio'), (80, 'aven'), (81, 'contrat'), (82, 'droit'), (83, 'refus'), (84, 'salari'), (85, 'travail'), (86, 'notr'), (87, 'vidéo'), (88, 'licenci'), (89, 'connect'), (90, 'viadeo'), (91, 'offre'), (92, 'crêp'), (93, 'simpl'), (94, 'alert'), (95, 'mair'), (96, 'siren'), (97, 'mesur'), (98, 'nouvel'), (99, 'entré'))\n"
     ]
    }
   ],
   "source": [
    "from nltk import FreqDist\n",
    "all_words = dictionary.iteritems()\n",
    "fdist = FreqDist(all_words)\n",
    "k = 100\n",
    "top_k_words, _ = zip(*fdist.most_common(k))\n",
    "print(top_k_words)"
   ]
  },
  {
   "cell_type": "code",
   "execution_count": 10,
   "metadata": {},
   "outputs": [],
   "source": [
    "my_stop_words = STOPWORDS.union(set(['linternaute','plateformes','plateforme','audio','semaine', 'heure','journal','newsletter','sommaire','programme','article', 'résolu','réponse','éditorial','combien','avoir','meilleur','différent', 'différente','différentes','moment','différents','réponses','fermé','devra','devrait','aussi','video','people','depuis','apparaît','fêtons','fêtont','confirmé','confirmés','assisté','assistée','notre','vidéo','alerte','never','viadeo','connect','demain','lundi','mardi','mercredi','jeudi','vendredi','samedi','dimanche','confirmer','newsletters','newsletter','programme','programmes','définitions','définition']))"
   ]
  },
  {
   "cell_type": "code",
   "execution_count": 11,
   "metadata": {},
   "outputs": [],
   "source": [
    "#stemmer setup\n",
    "stemmer = SnowballStemmer(\"french\")\n",
    "def lemmatize_stemming(text):\n",
    "    return stemmer.stem(WordNetLemmatizer().lemmatize(text, pos='v'))\n",
    "def preprocess(text):\n",
    "    result = []\n",
    "    for token in gensim.utils.simple_preprocess(text):\n",
    "        if token not in gensim.parsing.preprocessing.STOPWORDS and token not in my_stop_words and len(token) > 4:\n",
    "            result.append(lemmatize_stemming(token))\n",
    "    return result"
   ]
  },
  {
   "cell_type": "code",
   "execution_count": 12,
   "metadata": {},
   "outputs": [
    {
     "name": "stdout",
     "output_type": "stream",
     "text": [
      "original document: \n",
      "['Candy', 'Crush', 'Saga', ':', 'Trucs,', 'astuces', 'et', 'solutions']\n",
      "\n",
      "\n",
      " tokenized and lemmatized document: \n",
      "['candy', 'crush', 'truc', 'astuc', 'solut']\n"
     ]
    }
   ],
   "source": [
    "#postprocessing document preview\n",
    "from nltk.stem.porter import *\n",
    "doc_sample = documents[documents['index'] == 888].values[0][0]\n",
    "print('original document: ')\n",
    "words = []\n",
    "for word in doc_sample.split(' '):\n",
    "    words.append(word)\n",
    "print(words)\n",
    "print('\\n\\n tokenized and lemmatized document: ')\n",
    "print(preprocess(doc_sample))"
   ]
  },
  {
   "cell_type": "code",
   "execution_count": 13,
   "metadata": {},
   "outputs": [],
   "source": [
    "#saving processed results\n",
    "documents = documents.dropna(subset=['Page Title'])\n",
    "processed_docs = documents['Page Title'].map(preprocess)"
   ]
  },
  {
   "cell_type": "code",
   "execution_count": 14,
   "metadata": {},
   "outputs": [
    {
     "data": {
      "text/plain": [
       "0                                [emploi, catégor, chômeur]\n",
       "1                                                 [catégor]\n",
       "2                                                        []\n",
       "3                                 [déclar, revenus, emploi]\n",
       "4                                                        []\n",
       "5                                                        []\n",
       "6                                 [mont, plafond, ressourc]\n",
       "7                                                        []\n",
       "8                                         [compl, ressourc]\n",
       "9                                   [alloc, rentr, scolair]\n",
       "10                                                 [condit]\n",
       "11                                                       []\n",
       "12           [royaum, foll, campagn, européen, croi, quitt]\n",
       "13                                 [theres, annonc, démiss]\n",
       "14                                           [brut, truand]\n",
       "15                                        [dessert, maison]\n",
       "16                                                 [cuisin]\n",
       "17                                  [sabl, meilleur, recet]\n",
       "18                                         [meteo, bordeau]\n",
       "19                                                       []\n",
       "20                                                       []\n",
       "21                                                  [matin]\n",
       "22        [didi, billy, william, didi, dériv, désir, dés...\n",
       "23                                        [horoscop, chien]\n",
       "24                                               [horoscop]\n",
       "25                                        [horoscop, chien]\n",
       "26                                               [horoscop]\n",
       "27                                                       []\n",
       "28                                                       []\n",
       "29                                            [alic, never]\n",
       "                                ...                        \n",
       "146420         [ouragan, florenc, nouveau, dégât, attendus]\n",
       "146421               [imag, spectaculair, ouragan, florenc]\n",
       "146422          [elect, européen, résultat, sondag, actual]\n",
       "146423     [nordahl, leland, autr, victim, pist, enquêteur]\n",
       "146424                           [désign, comm, prioritair]\n",
       "146425          [elect, européen, résultat, sondag, actual]\n",
       "146426                  [grev, routi, blocag, rout, octobr]\n",
       "146427                                                   []\n",
       "146428                    [européen, tension, coup, actual]\n",
       "146429                                               [flop]\n",
       "146430                                                   []\n",
       "146431                                                   []\n",
       "146432              [middleton, princ, lou, assist, mariag]\n",
       "146433                [william, veulent, fair, ombre, mari]\n",
       "146434          [elect, européen, résultat, sondag, actual]\n",
       "146435         [ouragan, florenc, nouveau, dégât, attendus]\n",
       "146436               [imag, spectaculair, ouragan, florenc]\n",
       "146437             [elect, européen, sondag, actus, actual]\n",
       "146438                                        [vent, jusqu]\n",
       "146439                                  [ouragan, tabarnak]\n",
       "146440                                                   []\n",
       "146441                         [iphon, découvr, précommand]\n",
       "146442                                                   []\n",
       "146443                                                   []\n",
       "146444                                     [nouveaut, sort]\n",
       "146445    [smartphon, vedet, apple, désorm, disponibl, a...\n",
       "146446               [secret, story, morgan, enselm, invit]\n",
       "146447         [sarah, lop, secret, story, revient, salair]\n",
       "146448          [elect, européen, résultat, sondag, actual]\n",
       "146449     [vuelt, simon, yat, sacr, class, général, final]\n",
       "Name: Page Title, Length: 145925, dtype: object"
      ]
     },
     "execution_count": 14,
     "metadata": {},
     "output_type": "execute_result"
    }
   ],
   "source": [
    "processed_docs"
   ]
  },
  {
   "cell_type": "code",
   "execution_count": 15,
   "metadata": {},
   "outputs": [
    {
     "name": "stdout",
     "output_type": "stream",
     "text": [
      "0 catégor\n",
      "1 chômeur\n",
      "2 emploi\n",
      "3 déclar\n",
      "4 revenus\n",
      "5 mont\n",
      "6 plafond\n",
      "7 ressourc\n",
      "8 compl\n",
      "9 alloc\n",
      "10 rentr\n"
     ]
    }
   ],
   "source": [
    "#bag-of-words\n",
    "dictionary = gensim.corpora.Dictionary(processed_docs)\n",
    "count = 0\n",
    "for k, v in dictionary.iteritems():\n",
    "    print(k, v)\n",
    "    count += 1\n",
    "    if count > 10:\n",
    "        break"
   ]
  },
  {
   "cell_type": "code",
   "execution_count": 16,
   "metadata": {},
   "outputs": [],
   "source": [
    "#datafilter\n",
    "dictionary.filter_extremes(no_below=15, no_above=0.3, keep_n=100000)"
   ]
  },
  {
   "cell_type": "code",
   "execution_count": 17,
   "metadata": {},
   "outputs": [
    {
     "name": "stdout",
     "output_type": "stream",
     "text": [
      "((0, 'catégor'), (1, 'emploi'), (2, 'déclar'), (3, 'revenus'), (4, 'mont'), (5, 'plafond'), (6, 'ressourc'), (7, 'compl'), (8, 'alloc'), (9, 'rentr'), (10, 'scolair'), (11, 'condit'), (12, 'campagn'), (13, 'européen'), (14, 'foll'), (15, 'quitt'), (16, 'royaum'), (17, 'annonc'), (18, 'démiss'), (19, 'theres'), (20, 'brut'), (21, 'dessert'), (22, 'maison'), (23, 'cuisin'), (24, 'meilleur'), (25, 'recet'), (26, 'sabl'), (27, 'bordeau'), (28, 'meteo'), (29, 'matin'), (30, 'acced'), (31, 'billy'), (32, 'confirm'), (33, 'destin'), (34, 'didi'), (35, 'dériv'), (36, 'désign'), (37, 'désir'), (38, 'enfant'), (39, 'localis'), (40, 'masculin'), (41, 'mérovingien'), (42, 'national'), (43, 'prénom'), (44, 'rest'), (45, 'siecl'), (46, 'sixiem'), (47, 'souhait'), (48, 'territoir'), (49, 'vérit'), (50, 'william'), (51, 'élanc'), (52, 'chien'), (53, 'horoscop'), (54, 'alic'), (55, 'never'), (56, 'canc'), (57, 'chinois'), (58, 'compt'), (59, 'factur'), (60, 'assist'), (61, 'aven'), (62, 'contrat'), (63, 'droit'), (64, 'refus'), (65, 'salari'), (66, 'travail'), (67, 'licenci'), (68, 'connect'), (69, 'offre'), (70, 'crêp'), (71, 'simpl'), (72, 'mair'), (73, 'siren'), (74, 'mesur'), (75, 'nouvel'), (76, 'entré'), (77, 'vigueur'), (78, 'publiqu'), (79, 'succes'), (80, 'aéroport'), (81, 'adrian'), (82, 'blond'), (83, 'charlen'), (84, 'karembeu'), (85, 'monaco'), (86, 'beckham'), (87, 'petit'), (88, 'sylv'), (89, 'telli'), (90, 'berry'), (91, 'marilou'), (92, 'mauv'), (93, 'angel'), (94, 'interdit'), (95, 'britney'), (96, 'spear'), (97, 'cuiss'), (98, 'célin'), (99, 'jusqu'))\n"
     ]
    }
   ],
   "source": [
    "from nltk import FreqDist\n",
    "all_words = dictionary.iteritems()\n",
    "fdist = FreqDist(all_words)\n",
    "k = 100\n",
    "top_k_words, _ = zip(*fdist.most_common(k))\n",
    "print(top_k_words)"
   ]
  },
  {
   "cell_type": "markdown",
   "metadata": {},
   "source": [
    "We take a random sample of our data."
   ]
  },
  {
   "cell_type": "code",
   "execution_count": 18,
   "metadata": {},
   "outputs": [
    {
     "data": {
      "text/plain": [
       "[(47, 2), (747, 1)]"
      ]
     },
     "execution_count": 18,
     "metadata": {},
     "output_type": "execute_result"
    }
   ],
   "source": [
    "bow_corpus = [dictionary.doc2bow(doc) for doc in processed_docs]\n",
    "bow_corpus[888]"
   ]
  },
  {
   "cell_type": "code",
   "execution_count": 19,
   "metadata": {},
   "outputs": [
    {
     "name": "stdout",
     "output_type": "stream",
     "text": [
      "Word 47 (\"souhait\") appears 2 time.\n",
      "Word 747 (\"conjugaison\") appears 1 time.\n"
     ]
    }
   ],
   "source": [
    "bow_doc_888 = bow_corpus[888]\n",
    "for i in range(len(bow_doc_888)):\n",
    "    print(\"Word {} (\\\"{}\\\") appears {} time.\".format(bow_doc_888[i][0], \n",
    "                                               dictionary[bow_doc_888[i][0]], \n",
    "bow_doc_888[i][1]))"
   ]
  },
  {
   "cell_type": "markdown",
   "metadata": {},
   "source": [
    "We will use this random sample later on to check the strength of our LDA model."
   ]
  },
  {
   "cell_type": "code",
   "execution_count": 20,
   "metadata": {},
   "outputs": [
    {
     "name": "stdout",
     "output_type": "stream",
     "text": [
      "[(0, 0.8042160871156399), (1, 0.5943370131704818)]\n"
     ]
    }
   ],
   "source": [
    "from gensim import corpora, models\n",
    "tfidf = models.TfidfModel(bow_corpus)\n",
    "corpus_tfidf = tfidf[bow_corpus]\n",
    "from pprint import pprint\n",
    "for doc in corpus_tfidf:\n",
    "    pprint(doc)\n",
    "    break"
   ]
  },
  {
   "cell_type": "code",
   "execution_count": 21,
   "metadata": {},
   "outputs": [],
   "source": [
    "#lda model training\n",
    "lda_model = gensim.models.LdaMulticore(bow_corpus, num_topics=10, id2word=dictionary, passes=100, workers=4)"
   ]
  },
  {
   "cell_type": "code",
   "execution_count": 22,
   "metadata": {},
   "outputs": [
    {
     "name": "stdout",
     "output_type": "stream",
     "text": [
      "Topic: 0 \n",
      "Words: 0.040*\"franc\" + 0.035*\"court\" + 0.029*\"coup\" + 0.026*\"biograph\" + 0.025*\"dat\" + 0.022*\"fill\" + 0.022*\"mond\" + 0.021*\"pierr\" + 0.014*\"coloriag\" + 0.013*\"citat\"\n",
      "Topic: 1 \n",
      "Words: 0.074*\"européen\" + 0.064*\"actual\" + 0.062*\"elect\" + 0.049*\"sondag\" + 0.039*\"résultat\" + 0.036*\"maman\" + 0.022*\"cann\" + 0.019*\"festival\" + 0.017*\"déclar\" + 0.017*\"surpris\"\n",
      "Topic: 2 \n",
      "Words: 0.030*\"recet\" + 0.024*\"météo\" + 0.022*\"cet\" + 0.021*\"voic\" + 0.017*\"meilleur\" + 0.015*\"franc\" + 0.014*\"travail\" + 0.011*\"condit\" + 0.011*\"comment\" + 0.011*\"indiqu\"\n",
      "Topic: 3 \n",
      "Words: 0.190*\"cuisin\" + 0.038*\"comment\" + 0.035*\"fair\" + 0.013*\"alic\" + 0.012*\"direct\" + 0.012*\"never\" + 0.012*\"astuc\" + 0.011*\"vrai\" + 0.011*\"frais\" + 0.011*\"quand\"\n",
      "Topic: 4 \n",
      "Words: 0.046*\"beaut\" + 0.042*\"photos\" + 0.033*\"nouvel\" + 0.024*\"cors\" + 0.023*\"nouveau\" + 0.016*\"dévoil\" + 0.015*\"résultat\" + 0.015*\"saint\" + 0.014*\"étoil\" + 0.013*\"vill\"\n",
      "Topic: 5 \n",
      "Words: 0.062*\"assist\" + 0.032*\"votr\" + 0.020*\"paris\" + 0.017*\"autr\" + 0.016*\"pass\" + 0.016*\"maison\" + 0.015*\"servic\" + 0.013*\"victim\" + 0.012*\"bon\" + 0.012*\"immobili\"\n",
      "Topic: 6 \n",
      "Words: 0.069*\"conseil\" + 0.066*\"rédact\" + 0.042*\"hallyday\" + 0.039*\"johnny\" + 0.019*\"laetici\" + 0.016*\"grand\" + 0.016*\"amour\" + 0.015*\"figaro\" + 0.013*\"version\" + 0.013*\"électr\"\n",
      "Topic: 7 \n",
      "Words: 0.024*\"femm\" + 0.024*\"apres\" + 0.023*\"toujour\" + 0.022*\"lettr\" + 0.022*\"inspir\" + 0.022*\"terr\" + 0.017*\"model\" + 0.016*\"bel\" + 0.016*\"grev\" + 0.014*\"carr\"\n",
      "Topic: 8 \n",
      "Words: 0.101*\"sant\" + 0.021*\"franc\" + 0.019*\"premi\" + 0.017*\"symptôm\" + 0.016*\"meghan\" + 0.016*\"quel\" + 0.016*\"trait\" + 0.015*\"markl\" + 0.013*\"caus\" + 0.013*\"princ\"\n",
      "Topic: 9 \n",
      "Words: 0.038*\"prénom\" + 0.025*\"lant\" + 0.019*\"départ\" + 0.018*\"donatien\" + 0.018*\"comm\" + 0.018*\"don\" + 0.016*\"enfant\" + 0.016*\"regl\" + 0.016*\"était\" + 0.016*\"siecl\"\n"
     ]
    }
   ],
   "source": [
    "for idx, topic in lda_model.print_topics(-1):\n",
    "    print('Topic: {} \\nWords: {}'.format(idx, topic))"
   ]
  },
  {
   "cell_type": "code",
   "execution_count": 23,
   "metadata": {},
   "outputs": [
    {
     "name": "stdout",
     "output_type": "stream",
     "text": [
      "Topic: 0 Word: 0.016*\"mont\" + 0.013*\"regl\" + 0.013*\"saint\" + 0.012*\"pass\" + 0.012*\"calcul\" + 0.011*\"verb\" + 0.010*\"droit\" + 0.010*\"comment\" + 0.010*\"frais\" + 0.009*\"salon\"\n",
      "Topic: 1 Word: 0.025*\"court\" + 0.021*\"votr\" + 0.019*\"macron\" + 0.018*\"biograph\" + 0.016*\"pierr\" + 0.015*\"égal\" + 0.013*\"dat\" + 0.012*\"savoir\" + 0.011*\"condit\" + 0.011*\"emmanuel\"\n",
      "Topic: 2 Word: 0.133*\"assist\" + 0.038*\"recet\" + 0.022*\"meilleur\" + 0.015*\"enfant\" + 0.012*\"figaro\" + 0.012*\"amour\" + 0.011*\"anniversair\" + 0.011*\"coloriag\" + 0.011*\"voisin\" + 0.010*\"petit\"\n",
      "Topic: 3 Word: 0.027*\"hallyday\" + 0.025*\"johnny\" + 0.018*\"servic\" + 0.015*\"inform\" + 0.015*\"cann\" + 0.013*\"départ\" + 0.012*\"laetici\" + 0.012*\"festival\" + 0.010*\"nouveau\" + 0.010*\"saison\"\n",
      "Topic: 4 Word: 0.021*\"voic\" + 0.018*\"lant\" + 0.016*\"comment\" + 0.016*\"lettr\" + 0.014*\"résum\" + 0.012*\"model\" + 0.012*\"maison\" + 0.012*\"lign\" + 0.012*\"carr\" + 0.010*\"demand\"\n",
      "Topic: 5 Word: 0.053*\"européen\" + 0.050*\"actual\" + 0.047*\"elect\" + 0.041*\"sondag\" + 0.033*\"résultat\" + 0.021*\"terr\" + 0.020*\"inspir\" + 0.015*\"shop\" + 0.015*\"coup\" + 0.012*\"actus\"\n",
      "Topic: 6 Word: 0.419*\"cuisin\" + 0.085*\"beaut\" + 0.069*\"maman\" + 0.036*\"toujour\" + 0.021*\"femm\" + 0.016*\"chef\" + 0.013*\"indiqu\" + 0.012*\"olivi\" + 0.012*\"vrai\" + 0.011*\"fill\"\n",
      "Topic: 7 Word: 0.089*\"rédact\" + 0.081*\"conseil\" + 0.024*\"bienvenu\" + 0.022*\"météo\" + 0.017*\"alic\" + 0.016*\"cors\" + 0.016*\"never\" + 0.015*\"prénom\" + 0.013*\"nouvel\" + 0.012*\"essentiel\"\n",
      "Topic: 8 Word: 0.020*\"meteo\" + 0.019*\"franc\" + 0.017*\"grev\" + 0.017*\"guerr\" + 0.015*\"ultim\" + 0.015*\"horoscop\" + 0.014*\"mond\" + 0.012*\"premi\" + 0.012*\"blanc\" + 0.011*\"douleur\"\n",
      "Topic: 9 Word: 0.211*\"sant\" + 0.018*\"comm\" + 0.017*\"symptôm\" + 0.017*\"trait\" + 0.013*\"prioritair\" + 0.012*\"caus\" + 0.012*\"désign\" + 0.012*\"coupl\" + 0.011*\"malad\" + 0.011*\"laur\"\n"
     ]
    }
   ],
   "source": [
    "lda_model_tfidf = gensim.models.LdaMulticore(corpus_tfidf, num_topics=10, id2word=dictionary, passes=100, workers=4)\n",
    "lda_model_tfidf.save('model100.gensim')\n",
    "for idx, topic in lda_model_tfidf.print_topics(-1):\n",
    "    print('Topic: {} Word: {}'.format(idx, topic))"
   ]
  },
  {
   "cell_type": "code",
   "execution_count": 24,
   "metadata": {},
   "outputs": [
    {
     "data": {
      "text/plain": [
       "['candy', 'crush', 'truc', 'astuc', 'solut']"
      ]
     },
     "execution_count": 24,
     "metadata": {},
     "output_type": "execute_result"
    }
   ],
   "source": [
    "processed_docs[888]"
   ]
  },
  {
   "cell_type": "code",
   "execution_count": 25,
   "metadata": {},
   "outputs": [
    {
     "name": "stdout",
     "output_type": "stream",
     "text": [
      "\n",
      "Score: 0.7749892473220825\t \n",
      "Topic: 0.038*\"prénom\" + 0.025*\"lant\" + 0.019*\"départ\" + 0.018*\"donatien\" + 0.018*\"comm\" + 0.018*\"don\" + 0.016*\"enfant\" + 0.016*\"regl\" + 0.016*\"était\" + 0.016*\"siecl\"\n",
      "\n",
      "Score: 0.025004055351018906\t \n",
      "Topic: 0.024*\"femm\" + 0.024*\"apres\" + 0.023*\"toujour\" + 0.022*\"lettr\" + 0.022*\"inspir\" + 0.022*\"terr\" + 0.017*\"model\" + 0.016*\"bel\" + 0.016*\"grev\" + 0.014*\"carr\"\n",
      "\n",
      "Score: 0.025000834837555885\t \n",
      "Topic: 0.040*\"franc\" + 0.035*\"court\" + 0.029*\"coup\" + 0.026*\"biograph\" + 0.025*\"dat\" + 0.022*\"fill\" + 0.022*\"mond\" + 0.021*\"pierr\" + 0.014*\"coloriag\" + 0.013*\"citat\"\n",
      "\n",
      "Score: 0.025000834837555885\t \n",
      "Topic: 0.074*\"européen\" + 0.064*\"actual\" + 0.062*\"elect\" + 0.049*\"sondag\" + 0.039*\"résultat\" + 0.036*\"maman\" + 0.022*\"cann\" + 0.019*\"festival\" + 0.017*\"déclar\" + 0.017*\"surpris\"\n",
      "\n",
      "Score: 0.025000834837555885\t \n",
      "Topic: 0.030*\"recet\" + 0.024*\"météo\" + 0.022*\"cet\" + 0.021*\"voic\" + 0.017*\"meilleur\" + 0.015*\"franc\" + 0.014*\"travail\" + 0.011*\"condit\" + 0.011*\"comment\" + 0.011*\"indiqu\"\n",
      "\n",
      "Score: 0.025000834837555885\t \n",
      "Topic: 0.190*\"cuisin\" + 0.038*\"comment\" + 0.035*\"fair\" + 0.013*\"alic\" + 0.012*\"direct\" + 0.012*\"never\" + 0.012*\"astuc\" + 0.011*\"vrai\" + 0.011*\"frais\" + 0.011*\"quand\"\n",
      "\n",
      "Score: 0.025000834837555885\t \n",
      "Topic: 0.046*\"beaut\" + 0.042*\"photos\" + 0.033*\"nouvel\" + 0.024*\"cors\" + 0.023*\"nouveau\" + 0.016*\"dévoil\" + 0.015*\"résultat\" + 0.015*\"saint\" + 0.014*\"étoil\" + 0.013*\"vill\"\n",
      "\n",
      "Score: 0.025000834837555885\t \n",
      "Topic: 0.062*\"assist\" + 0.032*\"votr\" + 0.020*\"paris\" + 0.017*\"autr\" + 0.016*\"pass\" + 0.016*\"maison\" + 0.015*\"servic\" + 0.013*\"victim\" + 0.012*\"bon\" + 0.012*\"immobili\"\n",
      "\n",
      "Score: 0.025000834837555885\t \n",
      "Topic: 0.069*\"conseil\" + 0.066*\"rédact\" + 0.042*\"hallyday\" + 0.039*\"johnny\" + 0.019*\"laetici\" + 0.016*\"grand\" + 0.016*\"amour\" + 0.015*\"figaro\" + 0.013*\"version\" + 0.013*\"électr\"\n",
      "\n",
      "Score: 0.025000834837555885\t \n",
      "Topic: 0.101*\"sant\" + 0.021*\"franc\" + 0.019*\"premi\" + 0.017*\"symptôm\" + 0.016*\"meghan\" + 0.016*\"quel\" + 0.016*\"trait\" + 0.015*\"markl\" + 0.013*\"caus\" + 0.013*\"princ\"\n"
     ]
    }
   ],
   "source": [
    "for index, score in sorted(lda_model[bow_corpus[888]], key=lambda tup: -1*tup[1]):\n",
    "    print(\"\\nScore: {}\\t \\nTopic: {}\".format(score, lda_model.print_topic(index, 10)))"
   ]
  },
  {
   "cell_type": "markdown",
   "metadata": {},
   "source": [
    "Our test document has the highest probability to be part of the topic that our model assigned, which is the accurate classification."
   ]
  },
  {
   "cell_type": "code",
   "execution_count": 26,
   "metadata": {},
   "outputs": [
    {
     "name": "stdout",
     "output_type": "stream",
     "text": [
      "\n",
      "Score: 0.43440860509872437\t \n",
      "Topic: 0.133*\"assist\" + 0.038*\"recet\" + 0.022*\"meilleur\" + 0.015*\"enfant\" + 0.012*\"figaro\" + 0.012*\"amour\" + 0.011*\"anniversair\" + 0.011*\"coloriag\" + 0.011*\"voisin\" + 0.010*\"petit\"\n",
      "\n",
      "Score: 0.36555996537208557\t \n",
      "Topic: 0.016*\"mont\" + 0.013*\"regl\" + 0.013*\"saint\" + 0.012*\"pass\" + 0.012*\"calcul\" + 0.011*\"verb\" + 0.010*\"droit\" + 0.010*\"comment\" + 0.010*\"frais\" + 0.009*\"salon\"\n",
      "\n",
      "Score: 0.025011049583554268\t \n",
      "Topic: 0.020*\"meteo\" + 0.019*\"franc\" + 0.017*\"grev\" + 0.017*\"guerr\" + 0.015*\"ultim\" + 0.015*\"horoscop\" + 0.014*\"mond\" + 0.012*\"premi\" + 0.012*\"blanc\" + 0.011*\"douleur\"\n",
      "\n",
      "Score: 0.025002911686897278\t \n",
      "Topic: 0.025*\"court\" + 0.021*\"votr\" + 0.019*\"macron\" + 0.018*\"biograph\" + 0.016*\"pierr\" + 0.015*\"égal\" + 0.013*\"dat\" + 0.012*\"savoir\" + 0.011*\"condit\" + 0.011*\"emmanuel\"\n",
      "\n",
      "Score: 0.025002911686897278\t \n",
      "Topic: 0.027*\"hallyday\" + 0.025*\"johnny\" + 0.018*\"servic\" + 0.015*\"inform\" + 0.015*\"cann\" + 0.013*\"départ\" + 0.012*\"laetici\" + 0.012*\"festival\" + 0.010*\"nouveau\" + 0.010*\"saison\"\n",
      "\n",
      "Score: 0.025002911686897278\t \n",
      "Topic: 0.021*\"voic\" + 0.018*\"lant\" + 0.016*\"comment\" + 0.016*\"lettr\" + 0.014*\"résum\" + 0.012*\"model\" + 0.012*\"maison\" + 0.012*\"lign\" + 0.012*\"carr\" + 0.010*\"demand\"\n",
      "\n",
      "Score: 0.025002911686897278\t \n",
      "Topic: 0.053*\"européen\" + 0.050*\"actual\" + 0.047*\"elect\" + 0.041*\"sondag\" + 0.033*\"résultat\" + 0.021*\"terr\" + 0.020*\"inspir\" + 0.015*\"shop\" + 0.015*\"coup\" + 0.012*\"actus\"\n",
      "\n",
      "Score: 0.025002911686897278\t \n",
      "Topic: 0.419*\"cuisin\" + 0.085*\"beaut\" + 0.069*\"maman\" + 0.036*\"toujour\" + 0.021*\"femm\" + 0.016*\"chef\" + 0.013*\"indiqu\" + 0.012*\"olivi\" + 0.012*\"vrai\" + 0.011*\"fill\"\n",
      "\n",
      "Score: 0.025002911686897278\t \n",
      "Topic: 0.089*\"rédact\" + 0.081*\"conseil\" + 0.024*\"bienvenu\" + 0.022*\"météo\" + 0.017*\"alic\" + 0.016*\"cors\" + 0.016*\"never\" + 0.015*\"prénom\" + 0.013*\"nouvel\" + 0.012*\"essentiel\"\n",
      "\n",
      "Score: 0.025002911686897278\t \n",
      "Topic: 0.211*\"sant\" + 0.018*\"comm\" + 0.017*\"symptôm\" + 0.017*\"trait\" + 0.013*\"prioritair\" + 0.012*\"caus\" + 0.012*\"désign\" + 0.012*\"coupl\" + 0.011*\"malad\" + 0.011*\"laur\"\n"
     ]
    }
   ],
   "source": [
    "for index, score in sorted(lda_model_tfidf[bow_corpus[888]], key=lambda tup: -1*tup[1]):\n",
    "    print(\"\\nScore: {}\\t \\nTopic: {}\".format(score, lda_model_tfidf.print_topic(index, 10)))"
   ]
  },
  {
   "cell_type": "markdown",
   "metadata": {},
   "source": [
    "Same here."
   ]
  },
  {
   "cell_type": "code",
   "execution_count": 29,
   "metadata": {},
   "outputs": [
    {
     "name": "stdout",
     "output_type": "stream",
     "text": [
      "Score: 0.8199965357780457\t Topic: 0.101*\"sant\" + 0.021*\"franc\" + 0.019*\"premi\" + 0.017*\"symptôm\" + 0.016*\"meghan\"\n",
      "Score: 0.020000381395220757\t Topic: 0.040*\"franc\" + 0.035*\"court\" + 0.029*\"coup\" + 0.026*\"biograph\" + 0.025*\"dat\"\n",
      "Score: 0.020000381395220757\t Topic: 0.074*\"européen\" + 0.064*\"actual\" + 0.062*\"elect\" + 0.049*\"sondag\" + 0.039*\"résultat\"\n",
      "Score: 0.020000381395220757\t Topic: 0.030*\"recet\" + 0.024*\"météo\" + 0.022*\"cet\" + 0.021*\"voic\" + 0.017*\"meilleur\"\n",
      "Score: 0.020000381395220757\t Topic: 0.190*\"cuisin\" + 0.038*\"comment\" + 0.035*\"fair\" + 0.013*\"alic\" + 0.012*\"direct\"\n",
      "Score: 0.020000381395220757\t Topic: 0.046*\"beaut\" + 0.042*\"photos\" + 0.033*\"nouvel\" + 0.024*\"cors\" + 0.023*\"nouveau\"\n",
      "Score: 0.020000381395220757\t Topic: 0.062*\"assist\" + 0.032*\"votr\" + 0.020*\"paris\" + 0.017*\"autr\" + 0.016*\"pass\"\n",
      "Score: 0.020000381395220757\t Topic: 0.069*\"conseil\" + 0.066*\"rédact\" + 0.042*\"hallyday\" + 0.039*\"johnny\" + 0.019*\"laetici\"\n",
      "Score: 0.020000381395220757\t Topic: 0.024*\"femm\" + 0.024*\"apres\" + 0.023*\"toujour\" + 0.022*\"lettr\" + 0.022*\"inspir\"\n",
      "Score: 0.020000381395220757\t Topic: 0.038*\"prénom\" + 0.025*\"lant\" + 0.019*\"départ\" + 0.018*\"donatien\" + 0.018*\"comm\"\n"
     ]
    }
   ],
   "source": [
    "#Testing model on unseen document\n",
    "unseen_document = 'Meghan, épouse du prince Harry'\n",
    "bow_vector = dictionary.doc2bow(preprocess(unseen_document))\n",
    "for index, score in sorted(lda_model[bow_vector], key=lambda tup: -1*tup[1]):\n",
    "    print(\"Score: {}\\t Topic: {}\".format(score, lda_model.print_topic(index, 5)))"
   ]
  },
  {
   "cell_type": "markdown",
   "metadata": {},
   "source": [
    "We can see that on an unknown dataset, the model works by giving a result related to Meghan."
   ]
  },
  {
   "cell_type": "code",
   "execution_count": 28,
   "metadata": {},
   "outputs": [
    {
     "name": "stderr",
     "output_type": "stream",
     "text": [
      "/Users/Phoenix/spaCy2/.env/lib/python3.7/site-packages/pyLDAvis/_prepare.py:257: FutureWarning: Sorting because non-concatenation axis is not aligned. A future version\n",
      "of pandas will change to not sort by default.\n",
      "\n",
      "To accept the future behavior, pass 'sort=False'.\n",
      "\n",
      "To retain the current behavior and silence the warning, pass 'sort=True'.\n",
      "\n",
      "  return pd.concat([default_term_info] + list(topic_dfs))\n"
     ]
    },
    {
     "data": {
      "text/html": [
       "\n",
       "<link rel=\"stylesheet\" type=\"text/css\" href=\"https://cdn.rawgit.com/bmabey/pyLDAvis/files/ldavis.v1.0.0.css\">\n",
       "\n",
       "\n",
       "<div id=\"ldavis_el1052150009898169351159188\"></div>\n",
       "<script type=\"text/javascript\">\n",
       "\n",
       "var ldavis_el1052150009898169351159188_data = {\"mdsDat\": {\"x\": [0.05975183740425694, 0.0443384091645698, 0.0006689924159147871, 0.06192174932535793, 0.11222913287236355, 0.023272349258277057, -0.44789891453137903, 0.08625919197411336, 0.045209533436132, 0.014247718680393226], \"y\": [-0.024682512997171578, -0.05441576696374355, -0.1819609509740808, -0.09880061912590495, 0.10039278687206679, 0.24857276554340418, 0.046908219334763815, 0.21824339288002428, -0.03609179376326971, -0.21816552080608853], \"topics\": [1, 2, 3, 4, 5, 6, 7, 8, 9, 10], \"cluster\": [1, 1, 1, 1, 1, 1, 1, 1, 1, 1], \"Freq\": [10.488097190856934, 11.099442481994629, 8.473711967468262, 12.214975357055664, 11.618340492248535, 10.968802452087402, 5.879724502563477, 11.556339263916016, 9.59316635131836, 8.107392311096191]}, \"tinfo\": {\"Category\": [\"Default\", \"Default\", \"Default\", \"Default\", \"Default\", \"Default\", \"Default\", \"Default\", \"Default\", \"Default\", \"Default\", \"Default\", \"Default\", \"Default\", \"Default\", \"Default\", \"Default\", \"Default\", \"Default\", \"Default\", \"Default\", \"Default\", \"Default\", \"Default\", \"Default\", \"Default\", \"Default\", \"Default\", \"Default\", \"Default\", \"Topic1\", \"Topic1\", \"Topic1\", \"Topic1\", \"Topic1\", \"Topic1\", \"Topic1\", \"Topic1\", \"Topic1\", \"Topic1\", \"Topic1\", \"Topic1\", \"Topic1\", \"Topic1\", \"Topic1\", \"Topic1\", \"Topic1\", \"Topic1\", \"Topic1\", \"Topic1\", \"Topic1\", \"Topic1\", \"Topic1\", \"Topic1\", \"Topic1\", \"Topic1\", \"Topic1\", \"Topic1\", \"Topic1\", \"Topic1\", \"Topic1\", \"Topic1\", \"Topic1\", \"Topic1\", \"Topic1\", \"Topic1\", \"Topic1\", \"Topic1\", \"Topic1\", \"Topic1\", \"Topic1\", \"Topic1\", \"Topic2\", \"Topic2\", \"Topic2\", \"Topic2\", \"Topic2\", \"Topic2\", \"Topic2\", \"Topic2\", \"Topic2\", \"Topic2\", \"Topic2\", \"Topic2\", \"Topic2\", \"Topic2\", \"Topic2\", \"Topic2\", \"Topic2\", \"Topic2\", \"Topic2\", \"Topic2\", \"Topic2\", \"Topic2\", \"Topic2\", \"Topic2\", \"Topic2\", \"Topic2\", \"Topic2\", \"Topic2\", \"Topic2\", \"Topic2\", \"Topic2\", \"Topic2\", \"Topic2\", \"Topic2\", \"Topic2\", \"Topic2\", \"Topic2\", \"Topic2\", \"Topic2\", \"Topic2\", \"Topic2\", \"Topic2\", \"Topic2\", \"Topic2\", \"Topic3\", \"Topic3\", \"Topic3\", \"Topic3\", \"Topic3\", \"Topic3\", \"Topic3\", \"Topic3\", \"Topic3\", \"Topic3\", \"Topic3\", \"Topic3\", \"Topic3\", \"Topic3\", \"Topic3\", \"Topic3\", \"Topic3\", \"Topic3\", \"Topic3\", \"Topic3\", \"Topic3\", \"Topic3\", \"Topic3\", \"Topic3\", \"Topic3\", \"Topic3\", \"Topic3\", \"Topic3\", \"Topic3\", \"Topic3\", \"Topic3\", \"Topic3\", \"Topic3\", \"Topic3\", \"Topic3\", \"Topic3\", \"Topic3\", \"Topic3\", \"Topic3\", \"Topic3\", \"Topic3\", \"Topic4\", \"Topic4\", \"Topic4\", \"Topic4\", \"Topic4\", \"Topic4\", \"Topic4\", \"Topic4\", \"Topic4\", \"Topic4\", \"Topic4\", \"Topic4\", \"Topic4\", \"Topic4\", \"Topic4\", \"Topic4\", \"Topic4\", \"Topic4\", \"Topic4\", \"Topic4\", \"Topic4\", \"Topic4\", \"Topic4\", \"Topic4\", \"Topic4\", \"Topic4\", \"Topic4\", \"Topic4\", \"Topic4\", \"Topic4\", \"Topic4\", \"Topic4\", \"Topic4\", \"Topic4\", \"Topic4\", \"Topic4\", \"Topic4\", \"Topic4\", \"Topic4\", \"Topic4\", \"Topic4\", \"Topic4\", \"Topic4\", \"Topic4\", \"Topic5\", \"Topic5\", \"Topic5\", \"Topic5\", \"Topic5\", \"Topic5\", \"Topic5\", \"Topic5\", \"Topic5\", \"Topic5\", \"Topic5\", \"Topic5\", \"Topic5\", \"Topic5\", \"Topic5\", \"Topic5\", \"Topic5\", \"Topic5\", \"Topic5\", \"Topic5\", \"Topic5\", \"Topic5\", \"Topic5\", \"Topic5\", \"Topic5\", \"Topic5\", \"Topic5\", \"Topic5\", \"Topic5\", \"Topic5\", \"Topic5\", \"Topic5\", \"Topic5\", \"Topic5\", \"Topic5\", \"Topic5\", \"Topic5\", \"Topic5\", \"Topic5\", \"Topic5\", \"Topic5\", \"Topic5\", \"Topic5\", \"Topic5\", \"Topic5\", \"Topic5\", \"Topic5\", \"Topic5\", \"Topic5\", \"Topic6\", \"Topic6\", \"Topic6\", \"Topic6\", \"Topic6\", \"Topic6\", \"Topic6\", \"Topic6\", \"Topic6\", \"Topic6\", \"Topic6\", \"Topic6\", \"Topic6\", \"Topic6\", \"Topic6\", \"Topic6\", \"Topic6\", \"Topic6\", \"Topic6\", \"Topic6\", \"Topic6\", \"Topic6\", \"Topic6\", \"Topic6\", \"Topic6\", \"Topic6\", \"Topic6\", \"Topic6\", \"Topic6\", \"Topic6\", \"Topic6\", \"Topic6\", \"Topic6\", \"Topic6\", \"Topic6\", \"Topic6\", \"Topic6\", \"Topic6\", \"Topic6\", \"Topic6\", \"Topic6\", \"Topic6\", \"Topic6\", \"Topic6\", \"Topic7\", \"Topic7\", \"Topic7\", \"Topic7\", \"Topic7\", \"Topic7\", \"Topic7\", \"Topic7\", \"Topic7\", \"Topic7\", \"Topic7\", \"Topic7\", \"Topic7\", \"Topic7\", \"Topic7\", \"Topic7\", \"Topic7\", \"Topic7\", \"Topic7\", \"Topic7\", \"Topic7\", \"Topic7\", \"Topic7\", \"Topic7\", \"Topic7\", \"Topic7\", \"Topic7\", \"Topic7\", \"Topic7\", \"Topic7\", \"Topic7\", \"Topic7\", \"Topic7\", \"Topic7\", \"Topic7\", \"Topic7\", \"Topic7\", \"Topic7\", \"Topic7\", \"Topic7\", \"Topic8\", \"Topic8\", \"Topic8\", \"Topic8\", \"Topic8\", \"Topic8\", \"Topic8\", \"Topic8\", \"Topic8\", \"Topic8\", \"Topic8\", \"Topic8\", \"Topic8\", \"Topic8\", \"Topic8\", \"Topic8\", \"Topic8\", \"Topic8\", \"Topic8\", \"Topic8\", \"Topic8\", \"Topic8\", \"Topic8\", \"Topic8\", \"Topic8\", \"Topic8\", \"Topic8\", \"Topic8\", \"Topic8\", \"Topic8\", \"Topic8\", \"Topic8\", \"Topic8\", \"Topic8\", \"Topic8\", \"Topic8\", \"Topic8\", \"Topic8\", \"Topic8\", \"Topic8\", \"Topic8\", \"Topic9\", \"Topic9\", \"Topic9\", \"Topic9\", \"Topic9\", \"Topic9\", \"Topic9\", \"Topic9\", \"Topic9\", \"Topic9\", \"Topic9\", \"Topic9\", \"Topic9\", \"Topic9\", \"Topic9\", \"Topic9\", \"Topic9\", \"Topic9\", \"Topic9\", \"Topic9\", \"Topic9\", \"Topic9\", \"Topic9\", \"Topic9\", \"Topic9\", \"Topic9\", \"Topic9\", \"Topic9\", \"Topic9\", \"Topic9\", \"Topic9\", \"Topic9\", \"Topic9\", \"Topic9\", \"Topic9\", \"Topic9\", \"Topic9\", \"Topic9\", \"Topic9\", \"Topic10\", \"Topic10\", \"Topic10\", \"Topic10\", \"Topic10\", \"Topic10\", \"Topic10\", \"Topic10\", \"Topic10\", \"Topic10\", \"Topic10\", \"Topic10\", \"Topic10\", \"Topic10\", \"Topic10\", \"Topic10\", \"Topic10\", \"Topic10\", \"Topic10\", \"Topic10\", \"Topic10\", \"Topic10\", \"Topic10\", \"Topic10\", \"Topic10\", \"Topic10\", \"Topic10\", \"Topic10\", \"Topic10\", \"Topic10\", \"Topic10\", \"Topic10\", \"Topic10\", \"Topic10\", \"Topic10\", \"Topic10\", \"Topic10\", \"Topic10\", \"Topic10\", \"Topic10\"], \"Freq\": [6781.0, 4718.0, 3114.0, 2830.0, 2572.0, 1374.0, 1600.0, 1556.0, 1125.0, 1435.0, 1239.0, 905.0, 1315.0, 899.0, 847.0, 759.0, 580.0, 751.0, 809.0, 639.0, 601.0, 716.0, 526.0, 813.0, 571.0, 577.0, 617.0, 605.0, 534.0, 559.0, 450.8102722167969, 362.1760559082031, 315.37054443359375, 300.0516052246094, 278.116943359375, 272.44818115234375, 263.2579345703125, 228.0699005126953, 219.97842407226562, 206.3687286376953, 199.17945861816406, 189.3563995361328, 180.91473388671875, 172.89622497558594, 168.58041381835938, 165.8054962158203, 164.3565216064453, 158.64346313476562, 151.2255401611328, 145.1808319091797, 144.90313720703125, 141.75662231445312, 141.01829528808594, 139.24185180664062, 137.9008026123047, 136.93051147460938, 136.69903564453125, 132.85302734375, 128.09336853027344, 124.76608276367188, 379.6445617675781, 335.0626525878906, 349.0704650878906, 181.9844512939453, 196.7399139404297, 187.7958526611328, 179.67098999023438, 212.06591796875, 165.7808380126953, 297.3318176269531, 160.40069580078125, 173.4821319580078, 757.7506103515625, 471.6941833496094, 323.48883056640625, 316.24407958984375, 313.81640625, 310.40972900390625, 290.9897766113281, 284.7281188964844, 252.72589111328125, 224.509033203125, 210.46710205078125, 188.76678466796875, 185.15048217773438, 169.10647583007812, 160.52664184570312, 160.4164276123047, 150.53724670410156, 148.66049194335938, 147.17401123046875, 146.80711364746094, 144.6586456298828, 139.25375366210938, 134.19773864746094, 122.9142074584961, 122.67744445800781, 118.08924865722656, 116.90287017822266, 114.9155502319336, 114.17410278320312, 113.91422271728516, 567.4520263671875, 541.2093505859375, 481.66400146484375, 364.3297119140625, 271.893310546875, 650.9006958007812, 402.2209777832031, 325.4610290527344, 240.47450256347656, 233.11648559570312, 169.3131866455078, 168.775146484375, 167.9908447265625, 240.197998046875, 3113.028564453125, 274.9821472167969, 261.93505859375, 245.03347778320312, 240.40989685058594, 237.0695037841797, 206.91929626464844, 204.5701141357422, 176.05870056152344, 169.91909790039062, 151.0745391845703, 145.6053924560547, 132.6033935546875, 126.5763931274414, 124.87361907958984, 121.89083099365234, 121.52137756347656, 116.95410919189453, 115.3913803100586, 112.64886474609375, 110.9627456665039, 110.71987915039062, 107.36143493652344, 100.2806625366211, 98.2396011352539, 96.00033569335938, 94.71687316894531, 92.87525177001953, 92.55335235595703, 89.73233795166016, 875.245361328125, 505.0030212402344, 179.2959747314453, 345.0812072753906, 255.7904052734375, 270.4200134277344, 242.56454467773438, 193.89871215820312, 159.06442260742188, 133.17453002929688, 115.2239990234375, 897.9835815429688, 845.9796142578125, 512.7789306640625, 501.71527099609375, 420.1791076660156, 406.4096374511719, 349.2439270019531, 313.1704406738281, 269.1462707519531, 258.416015625, 234.21536254882812, 225.60621643066406, 218.565673828125, 217.9017791748047, 212.51979064941406, 202.4007568359375, 202.32456970214844, 198.8839111328125, 195.9393310546875, 186.2185516357422, 182.28768920898438, 178.0483856201172, 175.35934448242188, 171.8863983154297, 169.312744140625, 147.9470977783203, 147.29635620117188, 146.59735107421875, 131.9790802001953, 129.2173309326172, 590.2173461914062, 424.56732177734375, 316.1779479980469, 268.5903625488281, 222.2882537841797, 293.7041320800781, 349.7501220703125, 260.8623352050781, 207.81556701660156, 232.18946838378906, 242.1259307861328, 224.97259521484375, 235.4424285888672, 205.86595153808594, 570.1229858398438, 504.82720947265625, 441.5653991699219, 371.7118835449219, 322.346435546875, 303.9554443359375, 297.1034851074219, 262.7181091308594, 242.1490478515625, 242.09140014648438, 236.93934631347656, 228.2613525390625, 224.21966552734375, 205.70689392089844, 192.90109252929688, 180.16758728027344, 168.4612274169922, 163.5242919921875, 160.539306640625, 156.5426025390625, 151.6814727783203, 151.14288330078125, 134.6204833984375, 133.35183715820312, 132.797119140625, 130.62278747558594, 129.28506469726562, 128.95606994628906, 121.90338134765625, 117.10791778564453, 218.98805236816406, 392.5508728027344, 664.762939453125, 335.1190185546875, 303.33782958984375, 385.3162841796875, 330.38043212890625, 389.6781921386719, 320.8793640136719, 176.6924285888672, 200.20191955566406, 505.9632873535156, 331.2091064453125, 316.26373291015625, 210.10061645507812, 220.32699584960938, 235.7649383544922, 203.17898559570312, 211.34483337402344, 1598.659912109375, 1433.5908203125, 1237.5521240234375, 637.9910888671875, 600.2083129882812, 452.4579772949219, 376.6378479003906, 329.1956787109375, 328.4822082519531, 271.586181640625, 271.5464172363281, 227.71946716308594, 220.60565185546875, 209.54161071777344, 172.1627197265625, 165.1441192626953, 164.99569702148438, 163.02125549316406, 160.55337524414062, 157.92263793945312, 154.6353302001953, 143.3232421875, 131.18443298339844, 130.48963928222656, 123.61627960205078, 118.48828887939453, 115.22470092773438, 114.20121765136719, 110.26778411865234, 109.75856018066406, 1503.1495361328125, 364.5317687988281, 1001.9114990234375, 290.2815856933594, 162.6414794921875, 438.2062072753906, 255.65744018554688, 260.1788024902344, 199.0977783203125, 220.614990234375, 252.3059539794922, 200.02603149414062, 239.39471435546875, 197.9524688720703, 6780.24853515625, 1373.2080078125, 1124.172607421875, 578.7468872070312, 253.55885314941406, 196.78985595703125, 194.0399627685547, 165.95408630371094, 150.6984405517578, 130.29505920410156, 76.08558654785156, 72.30441284179688, 71.38689422607422, 66.29644775390625, 60.38859939575195, 58.62031173706055, 56.71571350097656, 55.554203033447266, 51.15887451171875, 50.36732864379883, 49.32474136352539, 49.181976318359375, 47.81292724609375, 46.51900863647461, 46.27730178833008, 43.62980270385742, 41.721405029296875, 38.489891052246094, 37.84474563598633, 36.917633056640625, 209.36526489257812, 334.9764709472656, 65.43679809570312, 106.46990203857422, 97.35187530517578, 181.3184356689453, 56.39435577392578, 67.48501586914062, 74.14996337890625, 50.84522247314453, 2828.5859375, 2570.5693359375, 749.3963012695312, 532.6123657226562, 515.940673828125, 500.3059997558594, 376.94940185546875, 350.9615783691406, 339.9168395996094, 297.4046630859375, 286.64056396484375, 230.71339416503906, 212.23793029785156, 208.5413818359375, 198.26583862304688, 191.5463104248047, 187.2288055419922, 182.69239807128906, 176.7901611328125, 172.049072265625, 171.4428253173828, 158.58409118652344, 157.2746124267578, 152.89700317382812, 151.9711151123047, 140.8233642578125, 134.99887084960938, 132.11398315429688, 132.06640625, 126.79243469238281, 247.44259643554688, 703.7245483398438, 260.8370056152344, 252.46092224121094, 488.1971740722656, 416.4484558105469, 231.4627227783203, 289.17144775390625, 206.48448181152344, 189.38726806640625, 225.62074279785156, 524.4127197265625, 460.17266845703125, 444.9476318359375, 406.8381042480469, 405.92755126953125, 288.3753967285156, 284.3028564453125, 280.2293395996094, 275.2825012207031, 254.7423095703125, 253.25161743164062, 251.29539489746094, 239.11827087402344, 230.9541015625, 228.4635467529297, 172.2449951171875, 167.38888549804688, 164.8242950439453, 163.2725067138672, 151.49269104003906, 150.5575408935547, 142.3211669921875, 132.9585418701172, 121.78877258300781, 116.16091918945312, 114.25037384033203, 112.7281265258789, 112.19356536865234, 321.938720703125, 110.80912780761719, 361.427001953125, 270.6641845703125, 324.9544982910156, 251.78831481933594, 198.37774658203125, 218.1583251953125, 502.55279541015625, 185.09791564941406, 164.581298828125, 4716.72314453125, 381.85980224609375, 371.6036682128906, 292.56719970703125, 272.2097473144531, 254.71632385253906, 222.3569793701172, 219.60464477539062, 159.56710815429688, 133.5869903564453, 128.36309814453125, 127.978271484375, 120.55998992919922, 112.64705657958984, 111.56177520751953, 111.4989242553711, 111.32283782958984, 107.14471435546875, 106.00737762451172, 94.06645965576172, 91.51628875732422, 90.0233154296875, 89.80545043945312, 88.15503692626953, 83.35780334472656, 81.4838638305664, 79.41236877441406, 77.5126724243164, 75.5158462524414, 73.19346618652344, 179.71299743652344, 396.8392639160156, 246.81785583496094, 272.7712097167969, 274.61761474609375, 158.403564453125, 115.65352630615234, 107.49566650390625, 131.7646484375, 114.85365295410156], \"Term\": [\"cuisin\", \"sant\", \"assist\", \"r\\u00e9dact\", \"conseil\", \"beaut\", \"europ\\u00e9en\", \"actual\", \"maman\", \"elect\", \"sondag\", \"recet\", \"r\\u00e9sultat\", \"hallyday\", \"johnny\", \"court\", \"toujour\", \"bienvenu\", \"m\\u00e9t\\u00e9o\", \"terr\", \"inspir\", \"voic\", \"meteo\", \"votr\", \"lant\", \"macron\", \"meilleur\", \"servic\", \"alic\", \"biograph\", \"mont\", \"saint\", \"verb\", \"droit\", \"frais\", \"salon\", \"pr\\u00e9par\", \"pai\", \"march\", \"conjugaison\", \"poulet\", \"gratin\", \"salad\", \"embauch\", \"camill\", \"part\", \"arr\\u00eat\", \"barem\", \"prim\", \"citron\", \"entr\\u00e9\", \"lou\", \"indemn\", \"crash\", \"fa\\u00e7on\", \"flop\", \"recruteur\", \"charl\", \"palmares\", \"jour\", \"regl\", \"calcul\", \"pass\", \"compt\", \"entretien\", \"moin\", \"renault\", \"\\u00e9toil\", \"\\u00e9col\", \"comment\", \"grossess\", \"nouvel\", \"court\", \"\\u00e9gal\", \"emmanuel\", \"ident\", \"brigitt\", \"fich\", \"foucault\", \"citat\", \"habit\", \"beau\", \"lieux\", \"trouv\", \"trois\", \"question\", \"person\", \"fiscal\", \"alain\", \"cheveux\", \"soph\", \"adopt\", \"cadeau\", \"r\\u00e9form\", \"proces\", \"endorm\", \"dr\\u00f4l\", \"delon\", \"error\", \"collect\", \"achat\", \"professionnel\", \"macron\", \"biograph\", \"pierr\", \"savoir\", \"michel\", \"votr\", \"dat\", \"condit\", \"vill\", \"travail\", \"exoner\", \"encor\", \"pet\", \"franc\", \"assist\", \"figaro\", \"anniversair\", \"voisin\", \"cart\", \"g\\u00e2teau\", \"photo\", \"saumon\", \"daniel\", \"revient\", \"\\u00e9dit\", \"t\\u00e9l\\u00e9charg\", \"claud\", \"\\u00e9tudi\", \"ap\\u00e9rit\", \"text\", \"appliqu\", \"madam\", \"fanny\", \"auteuil\", \"polem\", \"histor\", \"int\\u00e9rieur\", \"magiqu\", \"matin\", \"mesur\", \"th\\u00e9\\u00e2tr\", \"chiffr\", \"anim\", \"musiqu\", \"recet\", \"meilleur\", \"iphon\", \"enfant\", \"coloriag\", \"amour\", \"petit\", \"nouveaut\", \"id\\u00e9\", \"jambon\", \"traval\", \"hallyday\", \"johnny\", \"inform\", \"cann\", \"laetici\", \"festival\", \"saison\", \"annonc\", \"populair\", \"regret\", \"mari\", \"c\\u00e9lin\", \"harry\", \"l\\u00e9gum\", \"story\", \"kechich\", \"abdel\", \"consult\", \"thron\", \"album\", \"croiset\", \"croqu\", \"octobr\", \"accident\", \"philipp\", \"suit\", \"r\\u00e9\\u00e9dit\", \"sport\", \"peugeot\", \"raison\", \"servic\", \"d\\u00e9part\", \"meghan\", \"ser\", \"s\\u00e9lect\", \"markl\", \"nouveau\", \"pr\\u00e9sent\", \"acteur\", \"retour\", \"bel\", \"princ\", \"pr\\u00e9nom\", \"star\", \"lant\", \"lettr\", \"r\\u00e9sum\", \"carr\", \"victim\", \"chocolat\", \"tirag\", \"pist\", \"leland\", \"activ\", \"nordahl\", \"enqu\\u00eateur\", \"soign\", \"match\", \"port\", \"formal\", \"\\u00e9limin\", \"exist\", \"\\u00e9pisod\", \"chanc\", \"euromillion\", \"vol\", \"d\\u00e9march\", \"b\\u00fbch\", \"st\\u00e9phan\", \"cach\", \"licenci\", \"doubl\", \"imprim\", \"rout\", \"gar\\u00e7on\", \"model\", \"voic\", \"demand\", \"candidat\", \"lign\", \"autr\", \"maison\", \"chang\", \"motiv\", \"gratuit\", \"comment\", \"cet\", \"quel\", \"tout\", \"gagn\", \"fair\", \"david\", \"coup\", \"europ\\u00e9en\", \"elect\", \"sondag\", \"terr\", \"inspir\", \"shop\", \"actus\", \"voyag\", \"tension\", \"promot\", \"ouragan\", \"version\", \"vent\", \"effet\", \"nettoi\", \"sall\", \"secondair\", \"black\", \"neig\", \"sarkozy\", \"appart\", \"tabarnak\", \"fleur\", \"friday\", \"brun\", \"posolog\", \"carl\", \"morgan\", \"avril\", \"terribl\", \"actual\", \"surpris\", \"r\\u00e9sultat\", \"destin\", \"sexuel\", \"coup\", \"derni\", \"d\\u00e9clar\", \"secret\", \"pomm\", \"paris\", \"avant\", \"apres\", \"imag\", \"cuisin\", \"beaut\", \"maman\", \"toujour\", \"chef\", \"olivi\", \"vrai\", \"d\\u00e9cembr\", \"fogiel\", \"band\", \"\\u00e9pic\", \"rein\", \"sarah\", \"thierry\", \"audit\", \"commentair\", \"sabl\", \"avion\", \"spectaculair\", \"d\\u00e9grad\", \"chirac\", \"bureau\", \"ardisson\", \"station\", \"forc\", \"parisien\", \"mural\", \"cr\\u00e9denc\", \"motif\", \"m\\u00e9moir\", \"indiqu\", \"femm\", \"connect\", \"retrait\", \"nicol\", \"fill\", \"noir\", \"plein\", \"crem\", \"jennif\", \"r\\u00e9dact\", \"conseil\", \"bienvenu\", \"alic\", \"cors\", \"never\", \"essentiel\", \"direct\", \"d\\u00e9voil\", \"\\u00e9tait\", \"\\u00e9lectr\", \"solut\", \"donatien\", \"origin\", \"signif\", \"ch\\u00e2teau\", \"num\\u00e9ros\", \"truc\", \"ouvert\", \"poid\", \"florenc\", \"g\\u00e9ner\", \"perdu\", \"succes\", \"weinstein\", \"harvey\", \"vacanc\", \"\\u00e9clat\", \"malgr\", \"academ\", \"recherch\", \"m\\u00e9t\\u00e9o\", \"bon\", \"erreur\", \"pr\\u00e9nom\", \"nouvel\", \"astuc\", \"photos\", \"don\", \"palm\", \"franc\", \"meteo\", \"grev\", \"guerr\", \"ultim\", \"horoscop\", \"douleur\", \"sujet\", \"trafic\", \"famill\", \"final\", \"mobilis\", \"chambr\", \"loisir\", \"men\", \"log\", \"arriv\", \"velout\", \"isabel\", \"projet\", \"rest\", \"gard\", \"naturel\", \"avocat\", \"formulair\", \"rend\", \"soir\", \"f\\u00e9vri\", \"ventr\", \"blanc\", \"soup\", \"mond\", \"pr\\u00e9vis\", \"premi\", \"g\\u00e9n\\u00e9ral\", \"ann\\u00e9\", \"autour\", \"franc\", \"homm\", \"restaur\", \"sant\", \"sympt\\u00f4m\", \"trait\", \"prioritair\", \"coupl\", \"malad\", \"jardin\", \"middleton\", \"mar\", \"marin\", \"fonci\", \"kardashian\", \"chanceux\", \"karin\", \"\\u00e9tap\", \"jouet\", \"express\", \"patrick\", \"tomb\", \"success\", \"canard\", \"diagnostic\", \"argument\", \"honneur\", \"christoph\", \"accouch\", \"grav\", \"aim\", \"elizabeth\", \"s\\u00e9bastien\", \"enceint\", \"comm\", \"laur\", \"d\\u00e9sign\", \"caus\", \"plafond\", \"ancien\", \"sign\", \"quel\", \"grand\"], \"Total\": [6781.0, 4718.0, 3114.0, 2830.0, 2572.0, 1374.0, 1600.0, 1556.0, 1125.0, 1435.0, 1239.0, 905.0, 1315.0, 899.0, 847.0, 759.0, 580.0, 751.0, 809.0, 639.0, 601.0, 716.0, 526.0, 813.0, 571.0, 577.0, 617.0, 605.0, 534.0, 559.0, 452.4861755371094, 363.8519592285156, 317.04638671875, 301.7275390625, 279.79278564453125, 274.1240539550781, 264.933837890625, 229.74578857421875, 221.6544189453125, 208.04452514648438, 200.85533142089844, 191.03231811523438, 182.59060668945312, 174.5720672607422, 170.2562713623047, 167.4814910888672, 166.0324249267578, 160.31930541992188, 152.9014129638672, 146.85675048828125, 146.5790252685547, 143.43252563476562, 142.6941680908203, 140.9176483154297, 139.5767059326172, 138.60630798339844, 138.37493896484375, 134.5289306640625, 129.76942443847656, 126.44198608398438, 406.1094970703125, 385.7596130371094, 416.53131103515625, 195.04034423828125, 226.63121032714844, 238.14749145507812, 223.93218994140625, 347.16107177734375, 203.56971740722656, 1226.7796630859375, 229.56991577148438, 797.0150146484375, 759.417236328125, 473.36083984375, 325.1554870605469, 317.9107360839844, 315.4830627441406, 312.0763854980469, 292.65643310546875, 286.394775390625, 254.392578125, 226.17568969726562, 212.13372802734375, 190.43350219726562, 186.8172149658203, 170.77313232421875, 162.1933135986328, 162.08309936523438, 152.20388793945312, 150.32716369628906, 148.8406524658203, 148.4738006591797, 146.32540893554688, 140.92039489746094, 135.864501953125, 124.58097076416016, 124.34418487548828, 119.75592041015625, 118.5694808959961, 116.58222198486328, 115.84082794189453, 115.58094024658203, 577.6463012695312, 559.5723876953125, 532.2538452148438, 403.7397766113281, 295.8103942871094, 813.554443359375, 517.542236328125, 402.8373718261719, 320.3943786621094, 365.88238525390625, 221.30267333984375, 228.25352478027344, 267.7315368652344, 1538.880126953125, 3114.711181640625, 276.6644592285156, 263.61737060546875, 246.7158966064453, 242.09225463867188, 238.7518310546875, 208.6016387939453, 206.25250244140625, 177.74099731445312, 171.60147094726562, 152.7569122314453, 147.2876739501953, 134.28575134277344, 128.25877380371094, 126.55599212646484, 123.57315063476562, 123.20368957519531, 118.63639068603516, 117.0737075805664, 114.33113098144531, 112.6453628540039, 112.40218353271484, 109.04380798339844, 101.96294403076172, 99.92192840576172, 97.68270111083984, 96.39917755126953, 94.55757904052734, 94.23571014404297, 91.4146499633789, 905.5453491210938, 617.4126586914062, 197.63037109375, 466.19415283203125, 326.5345458984375, 352.90216064453125, 330.0384521484375, 274.4896545410156, 229.71783447265625, 169.76364135742188, 142.85801696777344, 899.6484985351562, 847.6445922851562, 514.4437866210938, 503.38018798828125, 421.84405517578125, 408.0745849609375, 350.9089050292969, 314.8354797363281, 270.8111877441406, 260.0809326171875, 235.88035583496094, 227.2711639404297, 220.23057556152344, 219.56683349609375, 214.1847686767578, 204.06564331054688, 203.9894561767578, 200.54910278320312, 197.60423278808594, 187.88345336914062, 183.9525604248047, 179.71348571777344, 177.0244598388672, 173.5513458251953, 170.9776611328125, 149.612060546875, 148.9612274169922, 148.26229858398438, 133.64401245117188, 130.88235473632812, 605.7522583007812, 477.6771545410156, 382.35955810546875, 312.6493835449219, 247.88983154296875, 361.2772521972656, 470.3547058105469, 329.6350402832031, 233.41648864746094, 301.8813781738281, 362.61346435546875, 307.5280456542969, 765.495849609375, 286.44366455078125, 571.79833984375, 506.5025329589844, 443.24072265625, 373.3872375488281, 324.0217590332031, 305.6308898925781, 298.7787780761719, 264.3934326171875, 243.8242950439453, 243.76675415039062, 238.61459350585938, 229.9365997314453, 225.89498901367188, 207.3822784423828, 194.57650756835938, 181.84288024902344, 170.1365203857422, 165.1995849609375, 162.2146453857422, 158.21795654296875, 153.3567352294922, 152.81826782226562, 136.29583740234375, 135.02731323242188, 134.4724884033203, 132.29812622070312, 130.9604034423828, 130.6314239501953, 123.57867431640625, 118.78331756591797, 224.32798767089844, 407.1470031738281, 716.565185546875, 366.8556213378906, 329.6197814941406, 432.54388427734375, 374.57086181640625, 462.8289489746094, 419.64337158203125, 188.301025390625, 232.04859924316406, 1226.7796630859375, 584.6679077148438, 732.373779296875, 291.0034484863281, 337.0640869140625, 701.7439575195312, 308.9480895996094, 778.5733032226562, 1600.350341796875, 1435.2811279296875, 1239.242431640625, 639.6815185546875, 601.8988647460938, 454.1484375, 378.32830810546875, 330.8861999511719, 330.17266845703125, 273.2766418457031, 273.23712158203125, 229.41078186035156, 222.29617309570312, 211.23214721679688, 173.85325622558594, 166.83462524414062, 166.68617248535156, 164.71173095703125, 162.244140625, 159.6132049560547, 156.32582092285156, 145.013671875, 132.87501525878906, 132.1800994873047, 125.3067855834961, 120.1787338256836, 116.91516876220703, 115.8917007446289, 111.95853424072266, 111.449462890625, 1556.077880859375, 400.8696594238281, 1315.662353515625, 336.89117431640625, 184.2980499267578, 778.5733032226562, 375.91448974609375, 389.1949768066406, 280.3290710449219, 366.64605712890625, 531.584716796875, 325.1895751953125, 599.4224243164062, 327.87530517578125, 6781.98828125, 1374.9476318359375, 1125.9122314453125, 580.486572265625, 255.29861450195312, 198.52955627441406, 195.7797088623047, 167.69403076171875, 152.43807983398438, 132.0347442626953, 77.82546997070312, 74.04419708251953, 73.12678527832031, 68.03623962402344, 62.1288948059082, 60.3599739074707, 58.45542526245117, 57.29396438598633, 52.89874267578125, 52.10722351074219, 51.06443405151367, 50.92171859741211, 49.5526237487793, 48.2588005065918, 48.01726150512695, 45.36972427368164, 43.46112060546875, 40.229591369628906, 39.584442138671875, 38.657432556152344, 324.9692077636719, 583.6333618164062, 84.33042907714844, 173.60952758789062, 164.90975952148438, 461.3479309082031, 69.16239929199219, 115.01387786865234, 156.05581665039062, 72.29491424560547, 2830.225830078125, 2572.209228515625, 751.0359497070312, 534.2520141601562, 517.580322265625, 501.9456481933594, 378.589111328125, 352.6014404296875, 341.5566101074219, 299.0445251464844, 288.2802429199219, 232.3531036376953, 213.8775634765625, 210.18118286132812, 199.90554809570312, 193.1859893798828, 188.86846923828125, 184.33206176757812, 178.42987060546875, 173.68882751464844, 173.08262634277344, 160.22393798828125, 158.91445922851562, 154.53675842285156, 153.61082458496094, 142.4630584716797, 136.63861083984375, 133.75369262695312, 133.70614624023438, 128.4320831298828, 253.278076171875, 809.31640625, 291.2322998046875, 294.2327575683594, 765.495849609375, 797.0150146484375, 320.6564636230469, 743.25830078125, 333.8881530761719, 264.6201477050781, 1538.880126953125, 526.0746459960938, 461.8345947265625, 446.6096496582031, 408.5003967285156, 407.5894775390625, 290.0373840332031, 285.96478271484375, 281.8912658691406, 276.9445495605469, 256.4045715332031, 254.91355895996094, 252.9573516845703, 240.78016662597656, 232.6160125732422, 230.12554931640625, 173.9071044921875, 169.05091857910156, 166.48623657226562, 164.93450927734375, 153.15469360351562, 152.2195587158203, 143.9832305908203, 134.62060546875, 123.45074462890625, 117.82288360595703, 115.912353515625, 114.39016723632812, 113.85553741455078, 326.71551513671875, 112.47112274169922, 463.0926818847656, 343.47064208984375, 521.15869140625, 373.5290222167969, 275.8332824707031, 322.8980407714844, 1538.880126953125, 270.0459289550781, 228.5830841064453, 4718.421875, 383.55865478515625, 373.3025207519531, 294.2659606933594, 273.90863037109375, 256.4151916503906, 224.05577087402344, 221.3036651611328, 161.2659149169922, 135.285888671875, 130.0619354248047, 129.6770782470703, 122.25885009765625, 114.34583282470703, 113.26078033447266, 113.19795227050781, 113.02169036865234, 108.84352111816406, 107.70621490478516, 95.76537322998047, 93.21517944335938, 91.72211456298828, 91.5045394897461, 89.85386657714844, 85.056640625, 83.18269348144531, 81.11119079589844, 79.2115478515625, 77.21467590332031, 74.89262390136719, 188.72325134277344, 427.9779968261719, 262.4071350097656, 291.7396545410156, 348.3981018066406, 201.3837890625, 143.94383239746094, 150.65756225585938, 732.373779296875, 534.625732421875], \"loglift\": [30.0, 29.0, 28.0, 27.0, 26.0, 25.0, 24.0, 23.0, 22.0, 21.0, 20.0, 19.0, 18.0, 17.0, 16.0, 15.0, 14.0, 13.0, 12.0, 11.0, 10.0, 9.0, 8.0, 7.0, 6.0, 5.0, 4.0, 3.0, 2.0, 1.0, 2.251199960708618, 2.2502999305725098, 2.2495999336242676, 2.2493999004364014, 2.2488999366760254, 2.248800039291382, 2.2486000061035156, 2.2476000785827637, 2.247299909591675, 2.246799945831299, 2.2465999126434326, 2.2460999488830566, 2.245699882507324, 2.245300054550171, 2.244999885559082, 2.2448999881744385, 2.244800090789795, 2.2444000244140625, 2.2439000606536865, 2.243499994277954, 2.2434000968933105, 2.2432000637054443, 2.2430999279022217, 2.243000030517578, 2.242799997329712, 2.242799997329712, 2.2427000999450684, 2.2423999309539795, 2.2418999671936035, 2.2416000366210938, 2.1875, 2.114000082015991, 2.078200101852417, 2.1856000423431396, 2.1135001182556152, 2.017400026321411, 2.0346999168395996, 1.7619999647140503, 2.0495998859405518, 0.8375999927520752, 1.896399974822998, 0.7300999760627747, 2.1960999965667725, 2.194700002670288, 2.1930999755859375, 2.193000078201294, 2.193000078201294, 2.1928999423980713, 2.1926000118255615, 2.1923999786376953, 2.191699981689453, 2.1909000873565674, 2.1903998851776123, 2.189500093460083, 2.189300060272217, 2.188499927520752, 2.1879000663757324, 2.1879000663757324, 2.187299966812134, 2.1870999336242676, 2.187000036239624, 2.187000036239624, 2.186800003051758, 2.1863999366760254, 2.1858999729156494, 2.184799909591675, 2.184799909591675, 2.184299945831299, 2.1840999126434326, 2.1839001178741455, 2.183799982070923, 2.183799982070923, 2.180500030517578, 2.164900064468384, 2.098400115966797, 2.095599889755249, 2.114000082015991, 1.9752000570297241, 1.9462000131607056, 1.9850000143051147, 1.9112999439239502, 1.747499942779541, 1.9305000305175781, 1.896399974822998, 1.732200026512146, 0.3409000039100647, 2.4677000045776367, 2.462100028991699, 2.4618000984191895, 2.461400032043457, 2.461199998855591, 2.4611001014709473, 2.460099935531616, 2.4600000381469727, 2.458699941635132, 2.4583001136779785, 2.4570999145507812, 2.456700086593628, 2.4556000232696533, 2.4549999237060547, 2.4547998905181885, 2.4544999599456787, 2.4544999599456787, 2.453900098800659, 2.453700065612793, 2.453399896621704, 2.453200101852417, 2.4530999660491943, 2.452699899673462, 2.4516000747680664, 2.451200008392334, 2.4507999420166016, 2.4505999088287354, 2.450200080871582, 2.450200080871582, 2.4495999813079834, 2.4342000484466553, 2.267199993133545, 2.370800018310547, 2.1673998832702637, 2.2239999771118164, 2.2019999027252197, 2.1603000164031982, 2.1205999851226807, 2.1006999015808105, 2.2255001068115234, 2.253200054168701, 2.1006999015808105, 2.1005001068115234, 2.099299907684326, 2.0992000102996826, 2.098599910736084, 2.098400115966797, 2.0978000164031982, 2.0971999168395996, 2.096299886703491, 2.096100091934204, 2.095400094985962, 2.0952000617980957, 2.094899892807007, 2.094899892807007, 2.0947000980377197, 2.0943000316619873, 2.0943000316619873, 2.0941998958587646, 2.0940001010894775, 2.093600034713745, 2.093400001525879, 2.0931999683380127, 2.093100070953369, 2.092900037765503, 2.0927000045776367, 2.0913000106811523, 2.0913000106811523, 2.091200113296509, 2.0899999141693115, 2.0896999835968018, 2.0764999389648438, 1.9845999479293823, 1.912500023841858, 1.950600028038025, 1.993499994277954, 1.895400047302246, 1.8062000274658203, 1.868499994277954, 1.986299991607666, 1.840000033378601, 1.6986000537872314, 1.7898999452590942, 0.9235000014305115, 1.7721999883651733, 2.1496999263763428, 2.1493000984191895, 2.1487998962402344, 2.148099899291992, 2.14739990234375, 2.1470999717712402, 2.1470000743865967, 2.146199941635132, 2.145699977874756, 2.145699977874756, 2.1454999446868896, 2.1452999114990234, 2.1451001167297363, 2.1445000171661377, 2.143899917602539, 2.1433000564575195, 2.142699956893921, 2.142400026321411, 2.142199993133545, 2.141900062561035, 2.1415998935699463, 2.1415998935699463, 2.140199899673462, 2.1401000022888184, 2.140000104904175, 2.1398000717163086, 2.139699935913086, 2.139699935913086, 2.1389000415802, 2.138400077819824, 2.128499984741211, 2.1161000728607178, 2.077500104904175, 2.0620999336242676, 2.069499969482422, 2.0369999408721924, 2.0269999504089355, 1.9804999828338623, 1.8841999769210815, 2.0889999866485596, 2.005000114440918, 1.2668999433517456, 1.5843000411987305, 1.3128999471664429, 1.826799988746643, 1.7273999452590942, 1.061900019645691, 1.7335000038146973, 0.8485999703407288, 2.2091000080108643, 2.208899974822998, 2.2088000774383545, 2.2074999809265137, 2.2072999477386475, 2.206399917602539, 2.2056000232696533, 2.2049999237060547, 2.2049999237060547, 2.203900098800659, 2.203900098800659, 2.202699899673462, 2.202500104904175, 2.2021000385284424, 2.2002999782562256, 2.199899911880493, 2.199899911880493, 2.1998000144958496, 2.1995999813079834, 2.19950008392334, 2.199199914932251, 2.1984000205993652, 2.1972999572753906, 2.197200059890747, 2.196500062942505, 2.1958999633789062, 2.1956000328063965, 2.1953999996185303, 2.1949000358581543, 2.1947999000549316, 2.17549991607666, 2.1150999069213867, 1.9377000331878662, 2.061199903488159, 2.085099935531616, 1.6353000402450562, 1.8245999813079834, 1.8073999881744385, 1.867900013923645, 1.7021000385284424, 1.464900016784668, 1.7242000102996826, 1.2922999858856201, 1.7055000066757202, 2.833400011062622, 2.83240008354187, 2.8320999145507812, 2.830699920654297, 2.8268001079559326, 2.824899911880493, 2.824700117111206, 2.823199987411499, 2.822200059890747, 2.8203999996185303, 2.8111000061035156, 2.8099000453948975, 2.8096001148223877, 2.807800054550171, 2.8052000999450684, 2.8043999671936035, 2.8034000396728516, 2.802799940109253, 2.8001999855041504, 2.7997000217437744, 2.7990000247955322, 2.7988998889923096, 2.7978999614715576, 2.7969000339508057, 2.796799898147583, 2.794600009918213, 2.792799949645996, 2.7894999980926514, 2.7887001037597656, 2.787600040435791, 2.3940000534057617, 2.27839994430542, 2.5799999237060547, 2.3447000980377197, 2.3066000938415527, 1.8997999429702759, 2.6296000480651855, 2.30049991607666, 2.0894999504089355, 2.4816999435424805, 2.157399892807007, 2.1572999954223633, 2.1558001041412354, 2.154900074005127, 2.1547999382019043, 2.1547000408172607, 2.153599977493286, 2.1533000469207764, 2.15310001373291, 2.152400016784668, 2.1521999835968018, 2.150899887084961, 2.1501998901367188, 2.150099992752075, 2.1496999263763428, 2.149399995803833, 2.149199962615967, 2.1489999294281006, 2.148699998855591, 2.1484999656677246, 2.148400068283081, 2.147599935531616, 2.147599935531616, 2.1473000049591064, 2.147200107574463, 2.146399974822998, 2.145900011062622, 2.1456000804901123, 2.1456000804901123, 2.1451001167297363, 2.1345999240875244, 2.0181000232696533, 2.0476999282836914, 2.0048000812530518, 1.7080999612808228, 1.5088000297546387, 1.8320000171661377, 1.2138999700546265, 1.67739999294281, 1.8234000205993652, 0.23800000548362732, 2.3410000801086426, 2.3405001163482666, 2.340399980545044, 2.3399999141693115, 2.3399999141693115, 2.338399887084961, 2.3382999897003174, 2.338200092315674, 2.338099956512451, 2.337599992752075, 2.337599992752075, 2.3375000953674316, 2.3371999263763428, 2.336899995803833, 2.336899995803833, 2.3345000743865967, 2.334199905395508, 2.3341000080108643, 2.3340001106262207, 2.333199977874756, 2.3331000804901123, 2.3324999809265137, 2.331700086593628, 2.3306000232696533, 2.329900026321411, 2.329699993133545, 2.3294999599456787, 2.329400062561035, 2.329400062561035, 2.329200029373169, 2.096299886703491, 2.1059000492095947, 1.8717000484466553, 1.9496999979019165, 2.0144999027252197, 1.9520000219345093, 1.225000023841858, 1.9664000272750854, 2.0155999660491943, 2.51200008392334, 2.507999897003174, 2.5078001022338867, 2.5065999031066895, 2.506200075149536, 2.50570011138916, 2.5048000812530518, 2.504699945449829, 2.501800060272217, 2.499799966812134, 2.4992001056671143, 2.4992001056671143, 2.4983999729156494, 2.4974000453948975, 2.497299909591675, 2.497299909591675, 2.4972000122070312, 2.4967000484466553, 2.496500015258789, 2.494499921798706, 2.49399995803833, 2.4937000274658203, 2.4937000274658203, 2.493299961090088, 2.4921998977661133, 2.49180006980896, 2.4911999702453613, 2.4907000064849854, 2.4900999069213867, 2.4893999099731445, 2.4635000228881836, 2.4368999004364014, 2.4511001110076904, 2.445199966430664, 2.274399995803833, 2.2723000049591064, 2.293600082397461, 2.174799919128418, 0.7971000075340271, 0.9745000004768372], \"logprob\": [30.0, 29.0, 28.0, 27.0, 26.0, 25.0, 24.0, 23.0, 22.0, 21.0, 20.0, 19.0, 18.0, 17.0, 16.0, 15.0, 14.0, 13.0, 12.0, 11.0, 10.0, 9.0, 8.0, 7.0, 6.0, 5.0, 4.0, 3.0, 2.0, 1.0, -4.159999847412109, -4.378900051116943, -4.517300128936768, -4.5671000480651855, -4.64300012588501, -4.663599967956543, -4.69789981842041, -4.841400146484375, -4.877500057220459, -4.941299915313721, -4.976799964904785, -5.027400016784668, -5.072999954223633, -5.118299961090088, -5.143599987030029, -5.160200119018555, -5.169000148773193, -5.204400062561035, -5.252200126647949, -5.293000221252441, -5.294899940490723, -5.31689977645874, -5.3221001625061035, -5.334799766540527, -5.3445000648498535, -5.351500034332275, -5.3531999588012695, -5.381800174713135, -5.4182000160217285, -5.4446001052856445, -4.3317999839782715, -4.456699848175049, -4.4156999588012695, -5.0671000480651855, -4.989099979400635, -5.035699844360352, -5.079899787902832, -4.914100170135498, -5.160299777984619, -4.576200008392334, -5.193299770355225, -5.1149001121521, -3.6972999572753906, -4.171299934387207, -4.548500061035156, -4.571100234985352, -4.57889986038208, -4.589799880981445, -4.654399871826172, -4.67609977722168, -4.795400142669678, -4.913700103759766, -4.978300094604492, -5.087200164794922, -5.106500148773193, -5.1971001625061035, -5.249199867248535, -5.249899864196777, -5.313499927520752, -5.326000213623047, -5.335999965667725, -5.338500022888184, -5.353300094604492, -5.39139986038208, -5.428299903869629, -5.516200065612793, -5.518099784851074, -5.55620002746582, -5.566299915313721, -5.583499908447266, -5.589900016784668, -5.592199802398682, -3.9865000247955322, -4.033899784088135, -4.150400161743164, -4.429599761962891, -4.722300052642822, -3.849299907684326, -4.330699920654297, -4.542399883270264, -4.84499979019165, -4.876100063323975, -5.195899963378906, -5.199100017547607, -5.203800201416016, -4.846199989318848, -2.014400005340576, -4.440999984741211, -4.48960018157959, -4.556300163269043, -4.575399875640869, -4.589399814605713, -4.725399971008301, -4.736800193786621, -4.886899948120117, -4.922399997711182, -5.039999961853027, -5.0767998695373535, -5.170400142669678, -5.216899871826172, -5.230400085449219, -5.2546000480651855, -5.257599830627441, -5.296000003814697, -5.3094000816345215, -5.333499908447266, -5.348499774932861, -5.3506999015808105, -5.381499767303467, -5.44980001449585, -5.470300197601318, -5.4934000968933105, -5.506800174713135, -5.526500225067139, -5.53000020980835, -5.5609002113342285, -3.2832000255584717, -3.833199977874756, -4.86870002746582, -4.214000225067139, -4.513400077819824, -4.457799911499023, -4.566500186920166, -4.79040002822876, -4.988399982452393, -5.166100025177002, -5.3109002113342285, -3.623300075531006, -3.6828999519348145, -4.183599948883057, -4.205399990081787, -4.382800102233887, -4.416100025177002, -4.567699909210205, -4.676700115203857, -4.828199863433838, -4.868899822235107, -4.967199802398682, -5.0046000480651855, -5.036300182342529, -5.039400100708008, -5.0644001960754395, -5.1132001876831055, -5.11359977722168, -5.13070011138916, -5.145599842071533, -5.196499824523926, -5.217800140380859, -5.241399765014648, -5.2565999031066895, -5.276599884033203, -5.2916998863220215, -5.426599979400635, -5.431000232696533, -5.435699939727783, -5.540800094604492, -5.5619001388549805, -4.042900085449219, -4.372399806976318, -4.667099952697754, -4.8302001953125, -5.019499778747559, -4.740900039672852, -4.566199779510498, -4.859399795532227, -5.0868000984191895, -4.975900173187256, -4.934000015258789, -5.007500171661377, -4.961999893188477, -5.096199989318848, -4.027500152587891, -4.149099826812744, -4.2829999923706055, -4.4552001953125, -4.597700119018555, -4.656499862670898, -4.679299831390381, -4.802299976348877, -4.883800029754639, -4.883999824523926, -4.9054999351501465, -4.94290018081665, -4.960700035095215, -5.046899795532227, -5.111199855804443, -5.179500102996826, -5.246600151062012, -5.276400089263916, -5.2947998046875, -5.320000171661377, -5.351600170135498, -5.355100154876709, -5.470900058746338, -5.480400085449219, -5.484499931335449, -5.500999927520752, -5.511300086975098, -5.513899803161621, -5.570099830627441, -5.610300064086914, -4.984300136566162, -4.400700092315674, -3.8738999366760254, -4.558899879455566, -4.6585001945495605, -4.419300079345703, -4.5731000900268555, -4.4079999923706055, -4.60230016708374, -5.19890022277832, -5.073999881744385, -4.146900177001953, -4.5706000328063965, -4.616799831390381, -5.0258002281188965, -4.9781999588012695, -4.9105000495910645, -5.059299945831299, -5.019899845123291, -2.9388999938964844, -3.0478999614715576, -3.1949000358581543, -3.8575000762939453, -3.9184999465942383, -4.201099872589111, -4.384500026702881, -4.519199848175049, -4.521299839019775, -4.71150016784668, -4.711699962615967, -4.887700080871582, -4.919400215148926, -4.970900058746338, -5.167399883270264, -5.209000110626221, -5.20989990234375, -5.22189998626709, -5.237199783325195, -5.253699779510498, -5.274799823760986, -5.3506999015808105, -5.439199924468994, -5.444499969482422, -5.498600006103516, -5.540999889373779, -5.568900108337402, -5.577899932861328, -5.6128997802734375, -5.617499828338623, -3.000499963760376, -4.417200088500977, -3.4061999320983887, -4.644999980926514, -5.224299907684326, -4.233099937438965, -4.771999835968018, -4.754499912261963, -5.021999835968018, -4.919400215148926, -4.785200119018555, -5.017399787902832, -4.837699890136719, -5.0278000831604, -0.8705000281333923, -2.467400074005127, -2.6675000190734863, -3.331399917602539, -4.156700134277344, -4.410099983215332, -4.424200057983398, -4.580599784851074, -4.677000045776367, -4.822500228881836, -5.360400199890137, -5.411399841308594, -5.424200057983398, -5.4980998039245605, -5.5914998054504395, -5.621200084686279, -5.654200077056885, -5.674900054931641, -5.757299900054932, -5.772900104522705, -5.793900012969971, -5.796800136566162, -5.824999809265137, -5.852399826049805, -5.857600212097168, -5.916500091552734, -5.961299896240234, -6.041900157928467, -6.058800220489502, -6.083600044250488, -4.348199844360352, -3.878200054168701, -5.511199951171875, -5.024400234222412, -5.113900184631348, -4.492000102996826, -5.659900188446045, -5.480400085449219, -5.386199951171875, -5.763500213623047, -2.4205000400543213, -2.5160999298095703, -3.748699903488159, -4.090199947357178, -4.122000217437744, -4.1528000831604, -4.4359002113342285, -4.507299900054932, -4.539299964904785, -4.672900199890137, -4.709799766540527, -4.926799774169922, -5.010300159454346, -5.027900218963623, -5.078400135040283, -5.1128997802734375, -5.135700225830078, -5.160200119018555, -5.192999839782715, -5.220200061798096, -5.223800182342529, -5.301700115203857, -5.309999942779541, -5.338200092315674, -5.344299793243408, -5.420499801635742, -5.462699890136719, -5.484300136566162, -5.4847002029418945, -5.5254998207092285, -4.856800079345703, -3.8115999698638916, -4.804100036621094, -4.836699962615967, -4.177299976348877, -4.33620023727417, -4.923600196838379, -4.701000213623047, -5.037799835205078, -5.124199867248535, -4.949100017547607, -3.9195001125335693, -4.05019998550415, -4.083899974822998, -4.173399925231934, -4.175600051879883, -4.517600059509277, -4.531799793243408, -4.546199798583984, -4.564000129699707, -4.641600131988525, -4.64739990234375, -4.655200004577637, -4.704899787902832, -4.73960018157959, -4.750400066375732, -5.032899856567383, -5.061500072479248, -5.076900005340576, -5.086400032043457, -5.161300182342529, -5.167500019073486, -5.223700046539307, -5.291800022125244, -5.379499912261963, -5.426799774169922, -5.443399906158447, -5.4567999839782715, -5.461599826812744, -4.40749979019165, -5.473999977111816, -4.291800022125244, -4.580900192260742, -4.398099899291992, -4.653200149536133, -4.891600131988525, -4.796599864959717, -3.962100028991699, -4.960899829864502, -5.078400135040283, -1.5547000169754028, -4.06850004196167, -4.095699787139893, -4.33489990234375, -4.4070000648498535, -4.473400115966797, -4.609300136566162, -4.621699810028076, -4.941100120544434, -5.118800163269043, -5.158699989318848, -5.1616997718811035, -5.221399784088135, -5.289299964904785, -5.298999786376953, -5.299499988555908, -5.30109977722168, -5.339399814605713, -5.349999904632568, -5.4695000648498535, -5.497000217437744, -5.513500213623047, -5.515900135040283, -5.53439998626709, -5.590400218963623, -5.613100051879883, -5.638899803161621, -5.663099765777588, -5.689199924468994, -5.720399856567383, -4.822199821472168, -4.03000020980835, -4.504899978637695, -4.404900074005127, -4.398200035095215, -4.948400020599365, -5.262899875640869, -5.336100101470947, -5.132500171661377, -5.269899845123291]}, \"token.table\": {\"Topic\": [4, 8, 4, 10, 2, 2, 4, 5, 6, 8, 6, 2, 10, 2, 4, 8, 2, 3, 10, 1, 10, 3, 3, 4, 3, 9, 6, 3, 1, 2, 4, 5, 6, 7, 9, 10, 3, 7, 10, 9, 1, 3, 5, 8, 7, 3, 8, 9, 2, 5, 1, 4, 6, 9, 7, 9, 6, 7, 1, 2, 7, 4, 9, 10, 8, 2, 10, 6, 9, 10, 2, 8, 2, 6, 7, 5, 5, 2, 1, 10, 1, 10, 5, 10, 4, 6, 5, 3, 2, 10, 2, 4, 5, 6, 8, 10, 9, 5, 10, 4, 5, 9, 1, 7, 2, 3, 7, 5, 10, 8, 2, 1, 3, 2, 3, 5, 4, 8, 10, 1, 2, 5, 6, 8, 9, 10, 7, 1, 2, 1, 2, 1, 3, 7, 8, 4, 8, 5, 6, 9, 10, 2, 1, 1, 7, 4, 4, 7, 7, 4, 3, 2, 6, 8, 2, 5, 2, 1, 5, 2, 4, 6, 8, 6, 9, 10, 8, 2, 4, 5, 8, 8, 5, 9, 1, 2, 7, 2, 5, 6, 7, 5, 2, 4, 8, 9, 10, 8, 6, 6, 10, 1, 2, 6, 10, 2, 3, 4, 2, 3, 9, 10, 5, 1, 6, 1, 2, 8, 2, 8, 5, 6, 5, 2, 10, 10, 1, 2, 3, 4, 5, 6, 9, 10, 9, 3, 1, 2, 4, 7, 9, 4, 2, 3, 2, 4, 5, 7, 9, 10, 9, 2, 6, 1, 8, 7, 10, 7, 5, 9, 2, 1, 1, 2, 3, 4, 5, 6, 8, 9, 10, 6, 9, 3, 4, 5, 9, 4, 5, 1, 2, 3, 5, 6, 8, 9, 10, 1, 3, 5, 10, 9, 1, 10, 9, 3, 8, 4, 9, 2, 4, 4, 8, 3, 1, 4, 9, 10, 9, 2, 2, 3, 8, 2, 3, 5, 6, 5, 1, 6, 7, 4, 6, 3, 3, 6, 9, 3, 9, 10, 3, 7, 4, 10, 1, 10, 10, 4, 4, 5, 3, 10, 5, 5, 5, 2, 5, 6, 9, 9, 1, 4, 2, 4, 3, 3, 5, 6, 10, 8, 7, 10, 1, 4, 10, 3, 4, 5, 3, 3, 4, 3, 4, 5, 9, 3, 9, 2, 4, 10, 9, 3, 5, 1, 2, 6, 9, 1, 6, 7, 1, 5, 7, 3, 7, 6, 8, 9, 6, 6, 8, 2, 7, 1, 7, 5, 2, 4, 8, 1, 3, 5, 1, 3, 4, 5, 6, 8, 8, 4, 7, 8, 6, 8, 1, 4, 8, 1, 2, 4, 6, 9, 10, 7, 1, 1, 4, 10, 8, 2, 2, 3, 4, 5, 1, 3, 9, 4, 4, 3, 1, 2, 4, 5, 8, 9, 1, 2, 5, 2, 10, 1, 5, 7, 8, 3, 1, 3, 6, 4, 5, 6, 1, 2, 4, 5, 9, 10, 1, 1, 4, 9, 10, 2, 2, 9, 6, 4, 8, 9, 1, 2, 4, 10, 8, 9, 1, 2, 3, 4, 5, 8, 9, 10, 2, 4, 3, 4, 4, 8, 1, 1, 2, 4, 7, 1, 5, 9, 9, 1, 9, 10, 1, 4, 5, 10, 2, 7, 3, 5, 8, 2, 5, 6, 8, 5, 4, 7, 1, 4, 1, 6, 1, 10, 7, 6, 3, 2, 4, 7, 9, 6, 3, 6, 1, 4, 3, 4, 2, 6, 6, 7, 9, 10, 8, 5, 9, 8, 6, 2, 9, 7, 4, 3, 4, 6, 7, 4, 5, 8, 10, 4, 9, 5, 6, 10, 10, 10, 4, 5, 6, 6, 6, 6, 3, 7, 4, 3, 5, 10, 7, 1, 5, 6, 9, 10, 1, 2, 3, 3, 5, 2, 2, 8, 3, 9, 8, 9, 6, 9, 1, 6, 5, 2, 8, 2, 5, 8, 3, 5, 2, 3, 4, 9, 6, 7, 8, 8, 1, 2, 3, 2, 8, 5, 7, 5, 8, 10, 1, 8, 3], \"Freq\": [0.9902472496032715, 0.9888494610786438, 0.9910611510276794, 0.9737602472305298, 0.9841089844703674, 0.1028205007314682, 0.8911110162734985, 0.9927522540092468, 0.9658899307250977, 0.03277470916509628, 0.9964889883995056, 0.9900736808776855, 0.9847049117088318, 0.9920902848243713, 0.9899753928184509, 0.997656524181366, 0.11051221936941147, 0.7650845646858215, 0.11901315301656723, 0.1875731647014618, 0.8058698773384094, 0.9868870377540588, 0.9938647150993347, 0.9941700100898743, 0.27552875876426697, 0.7178248763084412, 0.9915188550949097, 0.9902300834655762, 0.16515898704528809, 0.07006745040416718, 0.11344253271818161, 0.08174535632133484, 0.39871713519096375, 0.020019270479679108, 0.08341363072395325, 0.06506263464689255, 0.9877051115036011, 0.9686671495437622, 0.9835577607154846, 0.9890337586402893, 0.9877588748931885, 0.9994506239891052, 0.2744370102882385, 0.7203971147537231, 0.9657342433929443, 0.9883572459220886, 0.3189861476421356, 0.6751357316970825, 0.11479803919792175, 0.8810082077980042, 0.13838082551956177, 0.12300517410039902, 0.6150258779525757, 0.11993004381656647, 0.9774153232574463, 0.9879617094993591, 0.9825066328048706, 0.9845893383026123, 0.9917707443237305, 0.9948018789291382, 0.9985834956169128, 0.6673772931098938, 0.17098096013069153, 0.15994992852210999, 0.9972891211509705, 0.9668096899986267, 0.030380340293049812, 0.9896076917648315, 0.9855669140815735, 0.009182300418615341, 0.09957686811685562, 0.8961917757987976, 0.9952991008758545, 0.9895713329315186, 0.9622613191604614, 0.984985888004303, 0.9901878833770752, 0.9909420609474182, 0.8684164881706238, 0.12702211737632751, 0.9926213026046753, 0.98696368932724, 0.9192409515380859, 0.07584496587514877, 0.997258186340332, 0.9836191534996033, 0.9962847232818604, 0.9913576245307922, 0.20666013658046722, 0.7893269062042236, 0.12656757235527039, 0.14367130398750305, 0.5661333203315735, 0.08551863580942154, 0.030786707997322083, 0.046180061995983124, 0.9922621250152588, 0.9923020601272583, 0.9897034168243408, 0.14536152780056, 0.7649352550506592, 0.08578713238239288, 0.9886349439620972, 0.9949133396148682, 0.9911714792251587, 0.9835277199745178, 0.9595719575881958, 0.9946638345718384, 0.9758203625679016, 0.9938609004020691, 0.9951298832893372, 0.9873567223548889, 0.9904252290725708, 0.9864282608032227, 0.7839905619621277, 0.21130995452404022, 0.053741078823804855, 0.016355980187654495, 0.9276177883148193, 0.24209725856781006, 0.09944736212491989, 0.4124619960784912, 0.03423597663640976, 0.07580823451280594, 0.0733628049492836, 0.061950813978910446, 0.9774689674377441, 0.9331402778625488, 0.06152573227882385, 0.18866173923015594, 0.8067771792411804, 0.9901726841926575, 0.201587975025177, 0.7707775235176086, 0.9995298981666565, 0.9922757148742676, 0.9969466924667358, 0.27100852131843567, 0.5625674724578857, 0.1644032746553421, 0.9930318593978882, 0.9981337785720825, 0.9863917231559753, 0.5126370787620544, 0.47418931126594543, 0.9893855452537537, 0.9904654622077942, 0.9445783495903015, 0.9997068047523499, 0.9944068193435669, 0.9902048707008362, 0.7767481803894043, 0.03477976843714714, 0.1854921132326126, 0.3366261422634125, 0.6570683121681213, 0.985337495803833, 0.08177603781223297, 0.913165807723999, 0.06650448590517044, 0.12502843141555786, 0.6810059547424316, 0.12502843141555786, 0.8608121275901794, 0.13357429206371307, 0.9812246561050415, 0.99545818567276, 0.029950149357318878, 0.08386041969060898, 0.2665563225746155, 0.6169731020927429, 0.9912213087081909, 0.9875112175941467, 0.9929754137992859, 0.9942744970321655, 0.9891898036003113, 0.9898980855941772, 0.15673378109931946, 0.17215022444725037, 0.6680456399917603, 0.9595598578453064, 0.9904924631118774, 0.0293084979057312, 0.8897222876548767, 0.07955163717269897, 0.0582711324095726, 0.93576580286026, 0.9954426288604736, 0.9941668510437012, 0.9991074204444885, 0.984268844127655, 0.9909947514533997, 0.9933708906173706, 0.03709134832024574, 0.953777551651001, 0.7404047846794128, 0.04381093382835388, 0.2102924883365631, 0.9873096942901611, 0.7400349974632263, 0.18232746422290802, 0.07507601380348206, 0.991577684879303, 0.8692536354064941, 0.12354873865842819, 0.9892274737358093, 0.13594679534435272, 0.8564648032188416, 0.9867631793022156, 0.9958025217056274, 0.9911530613899231, 0.9991562366485596, 0.9927385449409485, 0.7636600136756897, 0.22593490779399872, 0.9821123480796814, 0.11685173958539963, 0.18952780961990356, 0.03847557306289673, 0.09120135754346848, 0.33630499243736267, 0.07980118691921234, 0.11685173958539963, 0.03135046735405922, 0.992978572845459, 0.9822871685028076, 0.9887036681175232, 0.17476725578308105, 0.10109086334705353, 0.5739904642105103, 0.14906617999076843, 0.9949161410331726, 0.9933465719223022, 0.993983805179596, 0.1148807555437088, 0.15389686822891235, 0.13438880443572998, 0.3923286199569702, 0.09537270665168762, 0.10837807506322861, 0.9945220351219177, 0.9871479272842407, 0.9858888983726501, 0.988411009311676, 0.9879674315452576, 0.9905661344528198, 0.9841465353965759, 0.9579887986183167, 0.9898655414581299, 0.9882484078407288, 0.9943400025367737, 0.9935924410820007, 0.062383025884628296, 0.15595756471157074, 0.028592221438884735, 0.1267155259847641, 0.05913390964269638, 0.0630328506231308, 0.1468600481748581, 0.32686105370521545, 0.030541690066456795, 0.9835066199302673, 0.9878471493721008, 0.18987487256526947, 0.15130653977394104, 0.6526948809623718, 0.9919881820678711, 0.01783103495836258, 0.976249098777771, 0.14028505980968475, 0.12532131373882294, 0.06733682751655579, 0.16086019575595856, 0.07294822484254837, 0.054243553429841995, 0.16273066401481628, 0.21510374546051025, 0.9893614053726196, 0.12928326427936554, 0.8618884086608887, 0.9739716649055481, 0.9960275888442993, 0.6969554424285889, 0.2962060570716858, 0.9963958263397217, 0.9926625490188599, 0.9923610687255859, 0.3212601840496063, 0.6746463775634766, 0.9945258498191833, 0.9981676340103149, 0.9944123029708862, 0.9897302389144897, 0.9875252842903137, 0.09998299181461334, 0.21107520163059235, 0.685068666934967, 0.9793679714202881, 0.9961003065109253, 0.9939897060394287, 0.23507098853588104, 0.6921535134315491, 0.06965066492557526, 0.14334717392921448, 0.15554693341255188, 0.09454813599586487, 0.6038880944252014, 0.987225353717804, 0.9881272912025452, 0.350802481174469, 0.6431378722190857, 0.9971935153007507, 0.9968451857566833, 0.9812570214271545, 0.9057312607765198, 0.08601916581392288, 0.9910728931427002, 0.7834421992301941, 0.206168994307518, 0.9908247590065002, 0.27664464712142944, 0.705443799495697, 0.9980598092079163, 0.980583131313324, 0.9885956645011902, 0.9870672821998596, 0.9882301688194275, 0.9898775815963745, 0.9956285953521729, 0.9968549609184265, 0.05335220694541931, 0.9412853717803955, 0.9925180077552795, 0.9970335364341736, 0.9850305914878845, 0.9899415969848633, 0.8900830745697021, 0.10634759068489075, 0.9907635450363159, 0.9926066994667053, 0.990012526512146, 0.9928639531135559, 0.9815695285797119, 0.015580468811094761, 0.9862066507339478, 0.9807484745979309, 0.8426439166069031, 0.1555650383234024, 0.9944808483123779, 0.9872395992279053, 0.99830162525177, 0.9921501278877258, 0.9925360679626465, 0.9920283555984497, 0.9904950261116028, 0.18268518149852753, 0.8137794137001038, 0.9933346509933472, 0.980765700340271, 0.16999705135822296, 0.8264472484588623, 0.8179294466972351, 0.10527805238962173, 0.07450446486473083, 0.9930528998374939, 0.9827737808227539, 0.9960563778877258, 0.9195079207420349, 0.07437196373939514, 0.9941091537475586, 0.9924933314323425, 0.03192950040102005, 0.9652533531188965, 0.7894267439842224, 0.2057548463344574, 0.2159394919872284, 0.779541552066803, 0.9967155456542969, 0.9836769700050354, 0.9599730968475342, 0.053106456995010376, 0.9399842619895935, 0.9663809537887573, 0.9845249056816101, 0.9571251273155212, 0.12850351631641388, 0.8698699474334717, 0.986225962638855, 0.9923316836357117, 0.9893401265144348, 0.9961237907409668, 0.4002188742160797, 0.5882005095481873, 0.1590459644794464, 0.8096885085105896, 0.9932334423065186, 0.09354642033576965, 0.7441192865371704, 0.1594541221857071, 0.12022311240434647, 0.7067661881446838, 0.16758373379707336, 0.2170598953962326, 0.11166665703058243, 0.05395130440592766, 0.0652434378862381, 0.028857674449682236, 0.5219475030899048, 0.9901070594787598, 0.9885639548301697, 0.9922955632209778, 0.9943801760673523, 0.9954723715782166, 0.9919863939285278, 0.9924012422561646, 0.2796461284160614, 0.7142313122749329, 0.9863648414611816, 0.11663239449262619, 0.07336553931236267, 0.4740542471408844, 0.2558388113975525, 0.07712787389755249, 0.9698097109794617, 0.9911543130874634, 0.8378722071647644, 0.15845146775245667, 0.9830626249313354, 0.9879528880119324, 0.9926426410675049, 0.6274942755699158, 0.05229118838906288, 0.19048932194709778, 0.12325780093669891, 0.1636172980070114, 0.7362778186798096, 0.09695839881896973, 0.9876985549926758, 0.9884332418441772, 0.9923220276832581, 0.17759640514850616, 0.08476191759109497, 0.1870143860578537, 0.10090705007314682, 0.38882848620414734, 0.057853374630212784, 0.09206133335828781, 0.9055829644203186, 0.9947296977043152, 0.20359136164188385, 0.7845715880393982, 0.234754279255867, 0.1651974618434906, 0.5825384259223938, 0.9902766942977905, 0.9853934049606323, 0.15819071233272552, 0.2372860610485077, 0.6027611494064331, 0.9933120012283325, 0.9918977618217468, 0.9818708896636963, 0.9907628297805786, 0.06332044303417206, 0.1477477103471756, 0.10553407669067383, 0.6236104369163513, 0.057564038783311844, 0.9875644445419312, 0.10080381482839584, 0.7316405773162842, 0.16583853960037231, 0.9956979155540466, 0.9862767457962036, 0.9863218069076538, 0.9882710576057434, 0.9953283667564392, 0.3069905638694763, 0.6374952793121338, 0.053560055792331696, 0.9927006959915161, 0.12741364538669586, 0.7917847633361816, 0.0788751095533371, 0.2067134529352188, 0.7890048623085022, 0.03413557633757591, 0.09967587888240814, 0.0477898046374321, 0.040962688624858856, 0.43147367238998413, 0.10786841809749603, 0.05734776705503464, 0.1802358329296112, 0.9896170496940613, 0.9856179356575012, 0.9662685394287109, 0.03202490136027336, 0.01579291932284832, 0.9752126932144165, 0.9900636672973633, 0.935708224773407, 0.06155975162982941, 0.9919989109039307, 0.972392201423645, 0.8038147687911987, 0.1920224130153656, 0.9845286011695862, 0.9859312772750854, 0.15749196708202362, 0.7218381762504578, 0.11811897903680801, 0.06625118851661682, 0.7685137987136841, 0.03643815219402313, 0.1258772611618042, 0.3801634609699249, 0.6105655431747437, 0.9906675219535828, 0.9849867820739746, 0.9995668530464172, 0.9863724708557129, 0.12389197200536728, 0.7615935802459717, 0.11325094103813171, 0.9972007870674133, 0.9868339896202087, 0.9751019477844238, 0.9949101209640503, 0.9945601224899292, 0.9912886619567871, 0.9890033006668091, 0.9922515153884888, 0.9996986389160156, 0.9709164500236511, 0.9898930191993713, 0.9939273595809937, 0.9015707969665527, 0.039629485458135605, 0.02229158580303192, 0.0321989580988884, 0.9898841381072998, 0.28537890315055847, 0.709879994392395, 0.1375342607498169, 0.8603886961936951, 0.02311175875365734, 0.973995566368103, 0.10851986706256866, 0.8844369053840637, 0.9952692985534668, 0.09292596578598022, 0.17921437323093414, 0.7102199196815491, 0.9904677867889404, 0.9916111826896667, 0.9835017323493958, 0.9941765069961548, 0.9989974498748779, 0.9876334071159363, 0.9869199991226196, 0.9641060829162598, 0.9914860725402832, 0.21295635402202606, 0.7191640734672546, 0.0628395825624466, 0.9739156365394592, 0.9944684505462646, 0.9890499114990234, 0.9900556802749634, 0.9815656542778015, 0.9892250895500183, 0.993129312992096, 0.06485898792743683, 0.9105203747749329, 0.022451188415288925, 0.9959363341331482, 0.9747288227081299, 0.8955591320991516, 0.09681720286607742, 0.9861139059066772, 0.9934195876121521, 0.9973713159561157, 0.9869944453239441, 0.9872694611549377, 0.9700712561607361, 0.9918816089630127, 0.9854856133460999, 0.9940465092658997, 0.9841586351394653, 0.9974390864372253, 0.12027348577976227, 0.721640944480896, 0.15463733673095703, 0.9932907819747925, 0.9965108036994934, 0.18858519196510315, 0.636816680431366, 0.16945336759090424, 0.804995059967041, 0.18199889361858368, 0.9902727603912354, 0.9924724102020264, 0.9927735924720764, 0.9912574291229248, 0.9963270425796509, 0.9880077242851257, 0.987868070602417, 0.9941691756248474, 0.9837027192115784, 0.9935454726219177, 0.9938504099845886, 0.9937604069709778, 0.749076783657074, 0.24344997107982635, 0.039075300097465515, 0.9280383586883545, 0.03209756687283516, 0.9930450320243835, 0.9881017804145813, 0.8001922965049744, 0.030729351565241814, 0.12906327843666077, 0.03810439631342888, 0.9942995309829712, 0.9909096360206604, 0.9895135760307312, 0.9868886470794678, 0.8154454231262207, 0.17684359848499298, 0.9884986281394958, 0.9971251487731934, 0.99555903673172, 0.9874423146247864, 0.9765440821647644, 0.9925121068954468, 0.9931631684303284, 0.9888683557510376, 0.6106675267219543, 0.3859879672527313, 0.9901856780052185], \"Term\": [\"abdel\", \"academ\", \"accident\", \"accouch\", \"achat\", \"acteur\", \"acteur\", \"activ\", \"actual\", \"actual\", \"actus\", \"adopt\", \"aim\", \"alain\", \"album\", \"alic\", \"amour\", \"amour\", \"amour\", \"ancien\", \"ancien\", \"anim\", \"anniversair\", \"annonc\", \"ann\\u00e9\", \"ann\\u00e9\", \"appart\", \"appliqu\", \"apres\", \"apres\", \"apres\", \"apres\", \"apres\", \"apres\", \"apres\", \"apres\", \"ap\\u00e9rit\", \"ardisson\", \"argument\", \"arriv\", \"arr\\u00eat\", \"assist\", \"astuc\", \"astuc\", \"audit\", \"auteuil\", \"autour\", \"autour\", \"autr\", \"autr\", \"avant\", \"avant\", \"avant\", \"avant\", \"avion\", \"avocat\", \"avril\", \"band\", \"barem\", \"beau\", \"beaut\", \"bel\", \"bel\", \"bel\", \"bienvenu\", \"biograph\", \"biograph\", \"black\", \"blanc\", \"blanc\", \"bon\", \"bon\", \"brigitt\", \"brun\", \"bureau\", \"b\\u00fbch\", \"cach\", \"cadeau\", \"calcul\", \"calcul\", \"camill\", \"canard\", \"candidat\", \"candidat\", \"cann\", \"carl\", \"carr\", \"cart\", \"caus\", \"caus\", \"cet\", \"cet\", \"cet\", \"cet\", \"cet\", \"cet\", \"chambr\", \"chanc\", \"chanceux\", \"chang\", \"chang\", \"chang\", \"charl\", \"chef\", \"cheveux\", \"chiffr\", \"chirac\", \"chocolat\", \"christoph\", \"ch\\u00e2teau\", \"citat\", \"citron\", \"claud\", \"collect\", \"coloriag\", \"coloriag\", \"comm\", \"comm\", \"comm\", \"comment\", \"comment\", \"comment\", \"comment\", \"comment\", \"comment\", \"comment\", \"commentair\", \"compt\", \"compt\", \"condit\", \"condit\", \"conjugaison\", \"connect\", \"connect\", \"conseil\", \"consult\", \"cors\", \"coup\", \"coup\", \"coup\", \"coupl\", \"court\", \"crash\", \"crem\", \"crem\", \"croiset\", \"croqu\", \"cr\\u00e9denc\", \"cuisin\", \"c\\u00e9lin\", \"daniel\", \"dat\", \"dat\", \"dat\", \"david\", \"david\", \"delon\", \"demand\", \"demand\", \"derni\", \"derni\", \"derni\", \"derni\", \"destin\", \"destin\", \"diagnostic\", \"direct\", \"don\", \"don\", \"don\", \"don\", \"donatien\", \"doubl\", \"douleur\", \"droit\", \"dr\\u00f4l\", \"d\\u00e9cembr\", \"d\\u00e9clar\", \"d\\u00e9clar\", \"d\\u00e9clar\", \"d\\u00e9grad\", \"d\\u00e9march\", \"d\\u00e9part\", \"d\\u00e9part\", \"d\\u00e9part\", \"d\\u00e9sign\", \"d\\u00e9sign\", \"d\\u00e9voil\", \"effet\", \"elect\", \"elizabeth\", \"embauch\", \"emmanuel\", \"enceint\", \"enceint\", \"encor\", \"encor\", \"encor\", \"endorm\", \"enfant\", \"enfant\", \"enfant\", \"enqu\\u00eateur\", \"entretien\", \"entretien\", \"entr\\u00e9\", \"erreur\", \"erreur\", \"error\", \"essentiel\", \"euromillion\", \"europ\\u00e9en\", \"exist\", \"exoner\", \"exoner\", \"express\", \"fair\", \"fair\", \"fair\", \"fair\", \"fair\", \"fair\", \"fair\", \"fair\", \"famill\", \"fanny\", \"fa\\u00e7on\", \"femm\", \"femm\", \"femm\", \"femm\", \"festival\", \"fich\", \"figaro\", \"fill\", \"fill\", \"fill\", \"fill\", \"fill\", \"fill\", \"final\", \"fiscal\", \"fleur\", \"flop\", \"florenc\", \"fogiel\", \"fonci\", \"forc\", \"formal\", \"formulair\", \"foucault\", \"frais\", \"franc\", \"franc\", \"franc\", \"franc\", \"franc\", \"franc\", \"franc\", \"franc\", \"franc\", \"friday\", \"f\\u00e9vri\", \"gagn\", \"gagn\", \"gagn\", \"gard\", \"gar\\u00e7on\", \"gar\\u00e7on\", \"grand\", \"grand\", \"grand\", \"grand\", \"grand\", \"grand\", \"grand\", \"grand\", \"gratin\", \"gratuit\", \"gratuit\", \"grav\", \"grev\", \"grossess\", \"grossess\", \"guerr\", \"g\\u00e2teau\", \"g\\u00e9ner\", \"g\\u00e9n\\u00e9ral\", \"g\\u00e9n\\u00e9ral\", \"habit\", \"hallyday\", \"harry\", \"harvey\", \"histor\", \"homm\", \"homm\", \"homm\", \"honneur\", \"horoscop\", \"ident\", \"id\\u00e9\", \"id\\u00e9\", \"id\\u00e9\", \"imag\", \"imag\", \"imag\", \"imag\", \"imprim\", \"indemn\", \"indiqu\", \"indiqu\", \"inform\", \"inspir\", \"int\\u00e9rieur\", \"iphon\", \"iphon\", \"isabel\", \"jambon\", \"jambon\", \"jardin\", \"jennif\", \"jennif\", \"johnny\", \"jouet\", \"jour\", \"kardashian\", \"karin\", \"kechich\", \"laetici\", \"lant\", \"laur\", \"laur\", \"leland\", \"lettr\", \"licenci\", \"lieux\", \"lign\", \"lign\", \"log\", \"loisir\", \"lou\", \"l\\u00e9gum\", \"macron\", \"macron\", \"madam\", \"magiqu\", \"maison\", \"maison\", \"malad\", \"malgr\", \"maman\", \"mar\", \"march\", \"mari\", \"marin\", \"markl\", \"markl\", \"match\", \"matin\", \"meghan\", \"meghan\", \"meilleur\", \"meilleur\", \"meilleur\", \"men\", \"mesur\", \"meteo\", \"michel\", \"michel\", \"middleton\", \"mobilis\", \"model\", \"model\", \"moin\", \"moin\", \"mond\", \"mond\", \"mont\", \"morgan\", \"motif\", \"motiv\", \"motiv\", \"mural\", \"musiqu\", \"m\\u00e9moir\", \"m\\u00e9t\\u00e9o\", \"m\\u00e9t\\u00e9o\", \"naturel\", \"neig\", \"nettoi\", \"never\", \"nicol\", \"nicol\", \"noir\", \"noir\", \"nordahl\", \"nouveau\", \"nouveau\", \"nouveau\", \"nouveaut\", \"nouveaut\", \"nouveaut\", \"nouvel\", \"nouvel\", \"nouvel\", \"nouvel\", \"nouvel\", \"nouvel\", \"num\\u00e9ros\", \"octobr\", \"olivi\", \"origin\", \"ouragan\", \"ouvert\", \"pai\", \"palm\", \"palm\", \"palmares\", \"paris\", \"paris\", \"paris\", \"paris\", \"paris\", \"parisien\", \"part\", \"pass\", \"pass\", \"patrick\", \"perdu\", \"person\", \"pet\", \"pet\", \"pet\", \"pet\", \"petit\", \"petit\", \"petit\", \"peugeot\", \"philipp\", \"photo\", \"photos\", \"photos\", \"photos\", \"photos\", \"photos\", \"photos\", \"pierr\", \"pierr\", \"pist\", \"plafond\", \"plafond\", \"plein\", \"plein\", \"plein\", \"poid\", \"polem\", \"pomm\", \"pomm\", \"pomm\", \"populair\", \"port\", \"posolog\", \"poulet\", \"premi\", \"premi\", \"premi\", \"premi\", \"premi\", \"prim\", \"princ\", \"princ\", \"princ\", \"prioritair\", \"proces\", \"professionnel\", \"projet\", \"promot\", \"pr\\u00e9nom\", \"pr\\u00e9nom\", \"pr\\u00e9nom\", \"pr\\u00e9par\", \"pr\\u00e9sent\", \"pr\\u00e9sent\", \"pr\\u00e9sent\", \"pr\\u00e9vis\", \"pr\\u00e9vis\", \"quel\", \"quel\", \"quel\", \"quel\", \"quel\", \"quel\", \"quel\", \"quel\", \"question\", \"raison\", \"recet\", \"recet\", \"recherch\", \"recherch\", \"recruteur\", \"regl\", \"regl\", \"regret\", \"rein\", \"renault\", \"renault\", \"rend\", \"rest\", \"restaur\", \"restaur\", \"restaur\", \"retour\", \"retour\", \"retour\", \"retour\", \"retrait\", \"retrait\", \"revient\", \"rout\", \"r\\u00e9dact\", \"r\\u00e9form\", \"r\\u00e9sultat\", \"r\\u00e9sultat\", \"r\\u00e9sultat\", \"r\\u00e9sum\", \"r\\u00e9\\u00e9dit\", \"sabl\", \"saint\", \"saison\", \"salad\", \"sall\", \"salon\", \"sant\", \"sarah\", \"sarkozy\", \"saumon\", \"savoir\", \"savoir\", \"savoir\", \"savoir\", \"secondair\", \"secret\", \"secret\", \"ser\", \"ser\", \"servic\", \"servic\", \"sexuel\", \"sexuel\", \"shop\", \"sign\", \"sign\", \"sign\", \"signif\", \"soign\", \"soir\", \"solut\", \"sondag\", \"soph\", \"soup\", \"spectaculair\", \"sport\", \"star\", \"star\", \"star\", \"station\", \"story\", \"st\\u00e9phan\", \"succes\", \"success\", \"suit\", \"sujet\", \"surpris\", \"surpris\", \"surpris\", \"sympt\\u00f4m\", \"s\\u00e9bastien\", \"s\\u00e9lect\", \"s\\u00e9lect\", \"tabarnak\", \"tension\", \"terr\", \"terribl\", \"text\", \"thierry\", \"thron\", \"th\\u00e9\\u00e2tr\", \"tirag\", \"tomb\", \"toujour\", \"tout\", \"tout\", \"tout\", \"trafic\", \"trait\", \"travail\", \"travail\", \"travail\", \"traval\", \"traval\", \"trois\", \"trouv\", \"truc\", \"t\\u00e9l\\u00e9charg\", \"ultim\", \"vacanc\", \"velout\", \"vent\", \"ventr\", \"verb\", \"version\", \"victim\", \"vill\", \"vill\", \"voic\", \"voic\", \"voic\", \"voisin\", \"vol\", \"votr\", \"votr\", \"votr\", \"votr\", \"voyag\", \"vrai\", \"weinstein\", \"\\u00e9clat\", \"\\u00e9col\", \"\\u00e9col\", \"\\u00e9dit\", \"\\u00e9gal\", \"\\u00e9lectr\", \"\\u00e9limin\", \"\\u00e9pic\", \"\\u00e9pisod\", \"\\u00e9tait\", \"\\u00e9tap\", \"\\u00e9toil\", \"\\u00e9toil\", \"\\u00e9tudi\"]}, \"R\": 30, \"lambda.step\": 0.01, \"plot.opts\": {\"xlab\": \"PC1\", \"ylab\": \"PC2\"}, \"topic.order\": [1, 2, 3, 4, 5, 6, 7, 8, 9, 10]};\n",
       "\n",
       "function LDAvis_load_lib(url, callback){\n",
       "  var s = document.createElement('script');\n",
       "  s.src = url;\n",
       "  s.async = true;\n",
       "  s.onreadystatechange = s.onload = callback;\n",
       "  s.onerror = function(){console.warn(\"failed to load library \" + url);};\n",
       "  document.getElementsByTagName(\"head\")[0].appendChild(s);\n",
       "}\n",
       "\n",
       "if(typeof(LDAvis) !== \"undefined\"){\n",
       "   // already loaded: just create the visualization\n",
       "   !function(LDAvis){\n",
       "       new LDAvis(\"#\" + \"ldavis_el1052150009898169351159188\", ldavis_el1052150009898169351159188_data);\n",
       "   }(LDAvis);\n",
       "}else if(typeof define === \"function\" && define.amd){\n",
       "   // require.js is available: use it to load d3/LDAvis\n",
       "   require.config({paths: {d3: \"https://cdnjs.cloudflare.com/ajax/libs/d3/3.5.5/d3.min\"}});\n",
       "   require([\"d3\"], function(d3){\n",
       "      window.d3 = d3;\n",
       "      LDAvis_load_lib(\"https://cdn.rawgit.com/bmabey/pyLDAvis/files/ldavis.v1.0.0.js\", function(){\n",
       "        new LDAvis(\"#\" + \"ldavis_el1052150009898169351159188\", ldavis_el1052150009898169351159188_data);\n",
       "      });\n",
       "    });\n",
       "}else{\n",
       "    // require.js not available: dynamically load d3 & LDAvis\n",
       "    LDAvis_load_lib(\"https://cdnjs.cloudflare.com/ajax/libs/d3/3.5.5/d3.min.js\", function(){\n",
       "         LDAvis_load_lib(\"https://cdn.rawgit.com/bmabey/pyLDAvis/files/ldavis.v1.0.0.js\", function(){\n",
       "                 new LDAvis(\"#\" + \"ldavis_el1052150009898169351159188\", ldavis_el1052150009898169351159188_data);\n",
       "            })\n",
       "         });\n",
       "}\n",
       "</script>"
      ],
      "text/plain": [
       "<IPython.core.display.HTML object>"
      ]
     },
     "execution_count": 28,
     "metadata": {},
     "output_type": "execute_result"
    }
   ],
   "source": [
    "import pyLDAvis\n",
    "import pyLDAvis.gensim as gensimvis\n",
    "lda100 = gensim.models.ldamodel.LdaModel.load('model100.gensim')\n",
    "lda_display100 = pyLDAvis.gensim.prepare(lda100, bow_corpus, dictionary, sort_topics=False)\n",
    "pyLDAvis.display(lda_display100)"
   ]
  },
  {
   "cell_type": "markdown",
   "metadata": {},
   "source": [
    "As part of our comparison:\n",
    "The visualization allows us to see the term frequency for each topic. From this we have from our dataset the following insight for topic modeling:\n",
    "<br>\n",
    "<br>\n",
    "Topic 1: Cooking advice\n",
    "<br>\n",
    "Topic 2: Unknown (because of stemming)\n",
    "<br>\n",
    "Topic 3: Macron biography\n",
    "<br>\n",
    "Topic 4: Johnny Hallyday\n",
    "<br>\n",
    "Topic 5: How to write a cover letter\n",
    "<br>\n",
    "Topic 6: European elections poll\n",
    "<br>\n",
    "Topic 7: Chef cooking\n",
    "<br>\n",
    "Topic 8: Redaction advice\n",
    "<br>\n",
    "Topic 9: Weather in France\n",
    "<br>\n",
    "Topic 10: Healthcare\n",
    "<br>\n",
    "<br>\n",
    "\n",
    "We can see here that the result are slightly better. However it is still far from being exploitable from a business perspective. We believe that most of it is due to the use of french language in our dataset which limits Gensim frozenset, we would need to exclude manually a lot of words."
   ]
  }
 ],
 "metadata": {
  "kernelspec": {
   "display_name": "Python 3",
   "language": "python",
   "name": "python3"
  },
  "language_info": {
   "codemirror_mode": {
    "name": "ipython",
    "version": 3
   },
   "file_extension": ".py",
   "mimetype": "text/x-python",
   "name": "python",
   "nbconvert_exporter": "python",
   "pygments_lexer": "ipython3",
   "version": "3.7.0"
  }
 },
 "nbformat": 4,
 "nbformat_minor": 2
}
